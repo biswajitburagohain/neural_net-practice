{
  "nbformat": 4,
  "nbformat_minor": 0,
  "metadata": {
    "colab": {
      "name": "NLP_week4.ipynb",
      "provenance": [],
      "authorship_tag": "ABX9TyONmEbEqLm7JKGRUgAd1srN",
      "include_colab_link": true
    },
    "kernelspec": {
      "name": "python3",
      "display_name": "Python 3"
    }
  },
  "cells": [
    {
      "cell_type": "markdown",
      "metadata": {
        "id": "view-in-github",
        "colab_type": "text"
      },
      "source": [
        "<a href=\"https://colab.research.google.com/github/biswajitburagohain/neural_net-practice/blob/master/NLP_week4.ipynb\" target=\"_parent\"><img src=\"https://colab.research.google.com/assets/colab-badge.svg\" alt=\"Open In Colab\"/></a>"
      ]
    },
    {
      "cell_type": "code",
      "metadata": {
        "id": "7FFDZTJfIeRy",
        "colab_type": "code",
        "colab": {}
      },
      "source": [
        "import tensorflow as tf\n",
        "from tensorflow.keras.preprocessing.text import Tokenizer\n",
        "from tensorflow.keras.preprocessing.sequence import pad_sequences\n",
        "from tensorflow.keras.optimizers import Adam\n",
        "import numpy as np"
      ],
      "execution_count": 0,
      "outputs": []
    },
    {
      "cell_type": "code",
      "metadata": {
        "id": "cLfZCrvzJbVK",
        "colab_type": "code",
        "colab": {}
      },
      "source": [
        "dataset =\"Apne karam ki kar adaayein \\nYaara \\nMujhko iraade de kasamein de waade de \\nMeri duaaon ke ishaaron ko sahaare de \\nDil ko thikaane de naye bahaane de \\nKhwaabon ki baarishon ko mausam ke paimane de \\nApne karam ki kar adaayein \\nKar de idhar bhi tu nigaahein \\nSun raha hai naa tu ro raha hun main \\nSun raha hai naa tu kyun ro raha hun main \\nManzilein ruswa hain khoya hai raasta \\nAaye le jaaye itni si iltejaa \\nYe meri zamanat hai tu meri amaanat hai haan \\nApne karam ki kar adayein \\nKar de idhar bhi tu nigaahein \\nSun raha hai naa tu ro raha hoon main \\nSun raha hai naa tu kyun ro raha hun main \\nWaqt bhi thehara hai kaise kyun ye huaa \\nKaash tu aise aaye jaise koi duaa \\nTu rooh ki raahat hai tu meri ibaadat hai \\nApne karam ki kar adaayein \\nKar de idhar bhi tu nigaahein \\nSun raha hai naa tu ro raha hun main \\nSun raha hai naa tu kyun ro raha hun main\""
      ],
      "execution_count": 0,
      "outputs": []
    },
    {
      "cell_type": "code",
      "metadata": {
        "id": "UwBA3VxlJwEO",
        "colab_type": "code",
        "colab": {}
      },
      "source": [
        "corpus = dataset.lower().split('\\n')"
      ],
      "execution_count": 0,
      "outputs": []
    },
    {
      "cell_type": "code",
      "metadata": {
        "id": "oSMzaNSoJ3pU",
        "colab_type": "code",
        "colab": {}
      },
      "source": [
        "tokenizer = Tokenizer()\n",
        "tokenizer.fit_on_texts(corpus)"
      ],
      "execution_count": 0,
      "outputs": []
    },
    {
      "cell_type": "code",
      "metadata": {
        "id": "yLB29gcZKFsN",
        "colab_type": "code",
        "colab": {}
      },
      "source": [
        "total_word = len(tokenizer.word_counts) +1"
      ],
      "execution_count": 0,
      "outputs": []
    },
    {
      "cell_type": "code",
      "metadata": {
        "id": "H0lme2ezKek4",
        "colab_type": "code",
        "colab": {}
      },
      "source": [
        "input_sequence = []\n",
        "for line in corpus:\n",
        "  token_words = tokenizer.texts_to_sequences([line])[0]\n",
        "  for i in range(1,len(token_words)):\n",
        "    n_gram_sequence = token_words[:i+1]\n",
        "    input_sequence.append(n_gram_sequence)"
      ],
      "execution_count": 0,
      "outputs": []
    },
    {
      "cell_type": "code",
      "metadata": {
        "id": "gtlVfz0tL90l",
        "colab_type": "code",
        "colab": {
          "base_uri": "https://localhost:8080/",
          "height": 34
        },
        "outputId": "7725c915-b3f0-4852-c0d1-1849f7d6b332"
      },
      "source": [
        "input_sequence[1:3]"
      ],
      "execution_count": 101,
      "outputs": [
        {
          "output_type": "execute_result",
          "data": {
            "text/plain": [
              "[[12, 13, 6], [12, 13, 6, 5]]"
            ]
          },
          "metadata": {
            "tags": []
          },
          "execution_count": 101
        }
      ]
    },
    {
      "cell_type": "code",
      "metadata": {
        "id": "7r4-WH_oMJxy",
        "colab_type": "code",
        "colab": {}
      },
      "source": [
        "max_length = max([len(x) for x in input_sequence])"
      ],
      "execution_count": 0,
      "outputs": []
    },
    {
      "cell_type": "code",
      "metadata": {
        "id": "pSyjyYN3Mdan",
        "colab_type": "code",
        "colab": {
          "base_uri": "https://localhost:8080/",
          "height": 34
        },
        "outputId": "a3431076-6ea5-4e43-b5b4-d5694d51adc8"
      },
      "source": [
        "max_length"
      ],
      "execution_count": 103,
      "outputs": [
        {
          "output_type": "execute_result",
          "data": {
            "text/plain": [
              "10"
            ]
          },
          "metadata": {
            "tags": []
          },
          "execution_count": 103
        }
      ]
    },
    {
      "cell_type": "code",
      "metadata": {
        "id": "7E8xLEqDMgpa",
        "colab_type": "code",
        "colab": {}
      },
      "source": [
        "padding = pad_sequences(input_sequence, maxlen=max_length, padding='pre')"
      ],
      "execution_count": 0,
      "outputs": []
    },
    {
      "cell_type": "code",
      "metadata": {
        "id": "jYcc-gxuNRCc",
        "colab_type": "code",
        "colab": {}
      },
      "source": [
        "input_sequence = np.array(padding)"
      ],
      "execution_count": 0,
      "outputs": []
    },
    {
      "cell_type": "code",
      "metadata": {
        "id": "YgnR0w_9NUzr",
        "colab_type": "code",
        "colab": {
          "base_uri": "https://localhost:8080/",
          "height": 136
        },
        "outputId": "a671e86f-f326-46ec-f61c-5b37d268f5be"
      },
      "source": [
        "input_sequence"
      ],
      "execution_count": 106,
      "outputs": [
        {
          "output_type": "execute_result",
          "data": {
            "text/plain": [
              "array([[ 0,  0,  0, ...,  0, 12, 13],\n",
              "       [ 0,  0,  0, ..., 12, 13,  6],\n",
              "       [ 0,  0,  0, ..., 13,  6,  5],\n",
              "       ...,\n",
              "       [ 0,  0,  7, ..., 16,  9,  2],\n",
              "       [ 0,  7,  2, ...,  9,  2, 11],\n",
              "       [ 7,  2,  3, ...,  2, 11, 10]], dtype=int32)"
            ]
          },
          "metadata": {
            "tags": []
          },
          "execution_count": 106
        }
      ]
    },
    {
      "cell_type": "code",
      "metadata": {
        "id": "6bN3FzERNWFH",
        "colab_type": "code",
        "colab": {}
      },
      "source": [
        "train_x, label = input_sequence[:, :-1], input_sequence[:,-1]"
      ],
      "execution_count": 0,
      "outputs": []
    },
    {
      "cell_type": "code",
      "metadata": {
        "id": "qQ5jK2kVSw8C",
        "colab_type": "code",
        "colab": {}
      },
      "source": [
        "train_y = tf.keras.utils.to_categorical(label, num_classes=total_word)"
      ],
      "execution_count": 0,
      "outputs": []
    },
    {
      "cell_type": "code",
      "metadata": {
        "id": "V--hd2hyTpT9",
        "colab_type": "code",
        "colab": {
          "base_uri": "https://localhost:8080/",
          "height": 119
        },
        "outputId": "9d1e16f4-cda2-4258-f610-717feca3bff6"
      },
      "source": [
        "print(input_sequence[0])\n",
        "print(train_x[0])\n",
        "print(label[0])\n",
        "print(train_y[0])"
      ],
      "execution_count": 109,
      "outputs": [
        {
          "output_type": "stream",
          "text": [
            "[ 0  0  0  0  0  0  0  0 12 13]\n",
            "[ 0  0  0  0  0  0  0  0 12]\n",
            "13\n",
            "[0. 0. 0. 0. 0. 0. 0. 0. 0. 0. 0. 0. 0. 1. 0. 0. 0. 0. 0. 0. 0. 0. 0. 0.\n",
            " 0. 0. 0. 0. 0. 0. 0. 0. 0. 0. 0. 0. 0. 0. 0. 0. 0. 0. 0. 0. 0. 0. 0. 0.\n",
            " 0. 0. 0. 0. 0. 0. 0. 0. 0. 0. 0. 0. 0. 0. 0. 0. 0. 0. 0.]\n"
          ],
          "name": "stdout"
        }
      ]
    },
    {
      "cell_type": "code",
      "metadata": {
        "id": "vJvQl3sMTtn4",
        "colab_type": "code",
        "colab": {}
      },
      "source": [
        "model = tf.keras.Sequential([tf.keras.layers.Embedding(total_word, 100, input_length=max_length-1),\n",
        "                             tf.keras.layers.Bidirectional(tf.keras.layers.LSTM(150)),\n",
        "                             tf.keras.layers.Dense(total_word, activation='softmax')])"
      ],
      "execution_count": 0,
      "outputs": []
    },
    {
      "cell_type": "code",
      "metadata": {
        "id": "bxV-9QTsU-ue",
        "colab_type": "code",
        "colab": {}
      },
      "source": [
        "adam=Adam(0.01)\n",
        "model.compile(optimizer=adam, loss='categorical_crossentropy', metrics=['accuracy'])"
      ],
      "execution_count": 0,
      "outputs": []
    },
    {
      "cell_type": "code",
      "metadata": {
        "id": "Jgc-ojGhVItV",
        "colab_type": "code",
        "colab": {
          "base_uri": "https://localhost:8080/",
          "height": 255
        },
        "outputId": "e079c31e-1dc1-404f-e842-2a391f1a2eb3"
      },
      "source": [
        "model.summary()"
      ],
      "execution_count": 121,
      "outputs": [
        {
          "output_type": "stream",
          "text": [
            "Model: \"sequential_2\"\n",
            "_________________________________________________________________\n",
            "Layer (type)                 Output Shape              Param #   \n",
            "=================================================================\n",
            "embedding_2 (Embedding)      (None, 9, 100)            6700      \n",
            "_________________________________________________________________\n",
            "bidirectional_2 (Bidirection (None, 300)               301200    \n",
            "_________________________________________________________________\n",
            "dense_2 (Dense)              (None, 67)                20167     \n",
            "=================================================================\n",
            "Total params: 328,067\n",
            "Trainable params: 328,067\n",
            "Non-trainable params: 0\n",
            "_________________________________________________________________\n"
          ],
          "name": "stdout"
        }
      ]
    },
    {
      "cell_type": "code",
      "metadata": {
        "id": "00HjgTymVKsi",
        "colab_type": "code",
        "colab": {
          "base_uri": "https://localhost:8080/",
          "height": 1000
        },
        "outputId": "f493017f-fe42-40c2-a46e-63a4ce083fce"
      },
      "source": [
        "history = model.fit(train_x, train_y, epochs=200)"
      ],
      "execution_count": 122,
      "outputs": [
        {
          "output_type": "stream",
          "text": [
            "Epoch 1/200\n",
            "5/5 [==============================] - 0s 27ms/step - loss: 4.1370 - accuracy: 0.0548\n",
            "Epoch 2/200\n",
            "5/5 [==============================] - 0s 27ms/step - loss: 3.5613 - accuracy: 0.1164\n",
            "Epoch 3/200\n",
            "5/5 [==============================] - 0s 25ms/step - loss: 3.0766 - accuracy: 0.1849\n",
            "Epoch 4/200\n",
            "5/5 [==============================] - 0s 23ms/step - loss: 2.6697 - accuracy: 0.2192\n",
            "Epoch 5/200\n",
            "5/5 [==============================] - 0s 25ms/step - loss: 2.2544 - accuracy: 0.3699\n",
            "Epoch 6/200\n",
            "5/5 [==============================] - 0s 25ms/step - loss: 1.7128 - accuracy: 0.4932\n",
            "Epoch 7/200\n",
            "5/5 [==============================] - 0s 23ms/step - loss: 1.2727 - accuracy: 0.6096\n",
            "Epoch 8/200\n",
            "5/5 [==============================] - 0s 24ms/step - loss: 1.0044 - accuracy: 0.6781\n",
            "Epoch 9/200\n",
            "5/5 [==============================] - 0s 29ms/step - loss: 0.8212 - accuracy: 0.6712\n",
            "Epoch 10/200\n",
            "5/5 [==============================] - 0s 30ms/step - loss: 0.5906 - accuracy: 0.8288\n",
            "Epoch 11/200\n",
            "5/5 [==============================] - 0s 26ms/step - loss: 0.4301 - accuracy: 0.8562\n",
            "Epoch 12/200\n",
            "5/5 [==============================] - 0s 26ms/step - loss: 0.3756 - accuracy: 0.8904\n",
            "Epoch 13/200\n",
            "5/5 [==============================] - 0s 26ms/step - loss: 0.2140 - accuracy: 0.9521\n",
            "Epoch 14/200\n",
            "5/5 [==============================] - 0s 35ms/step - loss: 0.1729 - accuracy: 0.9384\n",
            "Epoch 15/200\n",
            "5/5 [==============================] - 0s 29ms/step - loss: 0.1284 - accuracy: 0.9589\n",
            "Epoch 16/200\n",
            "5/5 [==============================] - 0s 27ms/step - loss: 0.1072 - accuracy: 0.9658\n",
            "Epoch 17/200\n",
            "5/5 [==============================] - 0s 30ms/step - loss: 0.0955 - accuracy: 0.9589\n",
            "Epoch 18/200\n",
            "5/5 [==============================] - 0s 36ms/step - loss: 0.1251 - accuracy: 0.9521\n",
            "Epoch 19/200\n",
            "5/5 [==============================] - 0s 39ms/step - loss: 0.1175 - accuracy: 0.9658\n",
            "Epoch 20/200\n",
            "5/5 [==============================] - 0s 37ms/step - loss: 0.0909 - accuracy: 0.9658\n",
            "Epoch 21/200\n",
            "5/5 [==============================] - 0s 32ms/step - loss: 0.0777 - accuracy: 0.9658\n",
            "Epoch 22/200\n",
            "5/5 [==============================] - 0s 33ms/step - loss: 0.0774 - accuracy: 0.9658\n",
            "Epoch 23/200\n",
            "5/5 [==============================] - 0s 30ms/step - loss: 0.0908 - accuracy: 0.9521\n",
            "Epoch 24/200\n",
            "5/5 [==============================] - 0s 27ms/step - loss: 0.0775 - accuracy: 0.9589\n",
            "Epoch 25/200\n",
            "5/5 [==============================] - 0s 29ms/step - loss: 0.0756 - accuracy: 0.9658\n",
            "Epoch 26/200\n",
            "5/5 [==============================] - 0s 34ms/step - loss: 0.0702 - accuracy: 0.9589\n",
            "Epoch 27/200\n",
            "5/5 [==============================] - 0s 34ms/step - loss: 0.0826 - accuracy: 0.9315\n",
            "Epoch 28/200\n",
            "5/5 [==============================] - 0s 39ms/step - loss: 0.0790 - accuracy: 0.9589\n",
            "Epoch 29/200\n",
            "5/5 [==============================] - 0s 42ms/step - loss: 0.0746 - accuracy: 0.9589\n",
            "Epoch 30/200\n",
            "5/5 [==============================] - 0s 39ms/step - loss: 0.0650 - accuracy: 0.9726\n",
            "Epoch 31/200\n",
            "5/5 [==============================] - 0s 34ms/step - loss: 0.0735 - accuracy: 0.9658\n",
            "Epoch 32/200\n",
            "5/5 [==============================] - 0s 38ms/step - loss: 0.0871 - accuracy: 0.9658\n",
            "Epoch 33/200\n",
            "5/5 [==============================] - 0s 42ms/step - loss: 0.0925 - accuracy: 0.9658\n",
            "Epoch 34/200\n",
            "5/5 [==============================] - 0s 30ms/step - loss: 0.0656 - accuracy: 0.9658\n",
            "Epoch 35/200\n",
            "5/5 [==============================] - 0s 33ms/step - loss: 0.0697 - accuracy: 0.9589\n",
            "Epoch 36/200\n",
            "5/5 [==============================] - 0s 34ms/step - loss: 0.0666 - accuracy: 0.9658\n",
            "Epoch 37/200\n",
            "5/5 [==============================] - 0s 37ms/step - loss: 0.0702 - accuracy: 0.9658\n",
            "Epoch 38/200\n",
            "5/5 [==============================] - 0s 37ms/step - loss: 0.0697 - accuracy: 0.9658\n",
            "Epoch 39/200\n",
            "5/5 [==============================] - 0s 32ms/step - loss: 0.0640 - accuracy: 0.9589\n",
            "Epoch 40/200\n",
            "5/5 [==============================] - 0s 39ms/step - loss: 0.0784 - accuracy: 0.9589\n",
            "Epoch 41/200\n",
            "5/5 [==============================] - 0s 31ms/step - loss: 0.0778 - accuracy: 0.9521\n",
            "Epoch 42/200\n",
            "5/5 [==============================] - 0s 36ms/step - loss: 0.0693 - accuracy: 0.9658\n",
            "Epoch 43/200\n",
            "5/5 [==============================] - 0s 36ms/step - loss: 0.0640 - accuracy: 0.9658\n",
            "Epoch 44/200\n",
            "5/5 [==============================] - 0s 34ms/step - loss: 0.0638 - accuracy: 0.9589\n",
            "Epoch 45/200\n",
            "5/5 [==============================] - 0s 34ms/step - loss: 0.0653 - accuracy: 0.9658\n",
            "Epoch 46/200\n",
            "5/5 [==============================] - 0s 31ms/step - loss: 0.0729 - accuracy: 0.9589\n",
            "Epoch 47/200\n",
            "5/5 [==============================] - 0s 32ms/step - loss: 0.0651 - accuracy: 0.9658\n",
            "Epoch 48/200\n",
            "5/5 [==============================] - 0s 31ms/step - loss: 0.0628 - accuracy: 0.9589\n",
            "Epoch 49/200\n",
            "5/5 [==============================] - 0s 31ms/step - loss: 0.0608 - accuracy: 0.9658\n",
            "Epoch 50/200\n",
            "5/5 [==============================] - 0s 35ms/step - loss: 0.0637 - accuracy: 0.9658\n",
            "Epoch 51/200\n",
            "5/5 [==============================] - 0s 36ms/step - loss: 0.0604 - accuracy: 0.9658\n",
            "Epoch 52/200\n",
            "5/5 [==============================] - 0s 31ms/step - loss: 0.0645 - accuracy: 0.9521\n",
            "Epoch 53/200\n",
            "5/5 [==============================] - 0s 34ms/step - loss: 0.0617 - accuracy: 0.9658\n",
            "Epoch 54/200\n",
            "5/5 [==============================] - 0s 31ms/step - loss: 0.0728 - accuracy: 0.9384\n",
            "Epoch 55/200\n",
            "5/5 [==============================] - 0s 33ms/step - loss: 0.0655 - accuracy: 0.9589\n",
            "Epoch 56/200\n",
            "5/5 [==============================] - 0s 30ms/step - loss: 0.0625 - accuracy: 0.9521\n",
            "Epoch 57/200\n",
            "5/5 [==============================] - 0s 34ms/step - loss: 0.0623 - accuracy: 0.9658\n",
            "Epoch 58/200\n",
            "5/5 [==============================] - 0s 32ms/step - loss: 0.0646 - accuracy: 0.9589\n",
            "Epoch 59/200\n",
            "5/5 [==============================] - 0s 31ms/step - loss: 0.0640 - accuracy: 0.9589\n",
            "Epoch 60/200\n",
            "5/5 [==============================] - 0s 31ms/step - loss: 0.0615 - accuracy: 0.9658\n",
            "Epoch 61/200\n",
            "5/5 [==============================] - 0s 32ms/step - loss: 0.0593 - accuracy: 0.9658\n",
            "Epoch 62/200\n",
            "5/5 [==============================] - 0s 39ms/step - loss: 0.0687 - accuracy: 0.9521\n",
            "Epoch 63/200\n",
            "5/5 [==============================] - 0s 31ms/step - loss: 0.0671 - accuracy: 0.9452\n",
            "Epoch 64/200\n",
            "5/5 [==============================] - 0s 35ms/step - loss: 0.0623 - accuracy: 0.9658\n",
            "Epoch 65/200\n",
            "5/5 [==============================] - 0s 39ms/step - loss: 0.0635 - accuracy: 0.9658\n",
            "Epoch 66/200\n",
            "5/5 [==============================] - 0s 42ms/step - loss: 0.0621 - accuracy: 0.9726\n",
            "Epoch 67/200\n",
            "5/5 [==============================] - 0s 40ms/step - loss: 0.0698 - accuracy: 0.9658\n",
            "Epoch 68/200\n",
            "5/5 [==============================] - 0s 43ms/step - loss: 0.0626 - accuracy: 0.9658\n",
            "Epoch 69/200\n",
            "5/5 [==============================] - 0s 44ms/step - loss: 0.0596 - accuracy: 0.9658\n",
            "Epoch 70/200\n",
            "5/5 [==============================] - 0s 47ms/step - loss: 0.0626 - accuracy: 0.9658\n",
            "Epoch 71/200\n",
            "5/5 [==============================] - 0s 39ms/step - loss: 0.0628 - accuracy: 0.9589\n",
            "Epoch 72/200\n",
            "5/5 [==============================] - 0s 37ms/step - loss: 0.0627 - accuracy: 0.9658\n",
            "Epoch 73/200\n",
            "5/5 [==============================] - 0s 41ms/step - loss: 0.0625 - accuracy: 0.9658\n",
            "Epoch 74/200\n",
            "5/5 [==============================] - 0s 30ms/step - loss: 0.0618 - accuracy: 0.9589\n",
            "Epoch 75/200\n",
            "5/5 [==============================] - 0s 31ms/step - loss: 0.0687 - accuracy: 0.9589\n",
            "Epoch 76/200\n",
            "5/5 [==============================] - 0s 33ms/step - loss: 0.0627 - accuracy: 0.9589\n",
            "Epoch 77/200\n",
            "5/5 [==============================] - 0s 32ms/step - loss: 0.0634 - accuracy: 0.9589\n",
            "Epoch 78/200\n",
            "5/5 [==============================] - 0s 39ms/step - loss: 0.0616 - accuracy: 0.9658\n",
            "Epoch 79/200\n",
            "5/5 [==============================] - 0s 36ms/step - loss: 0.0658 - accuracy: 0.9589\n",
            "Epoch 80/200\n",
            "5/5 [==============================] - 0s 33ms/step - loss: 0.0625 - accuracy: 0.9658\n",
            "Epoch 81/200\n",
            "5/5 [==============================] - 0s 33ms/step - loss: 0.0628 - accuracy: 0.9658\n",
            "Epoch 82/200\n",
            "5/5 [==============================] - 0s 28ms/step - loss: 0.0663 - accuracy: 0.9658\n",
            "Epoch 83/200\n",
            "5/5 [==============================] - 0s 31ms/step - loss: 0.0709 - accuracy: 0.9658\n",
            "Epoch 84/200\n",
            "5/5 [==============================] - 0s 26ms/step - loss: 0.0613 - accuracy: 0.9726\n",
            "Epoch 85/200\n",
            "5/5 [==============================] - 0s 27ms/step - loss: 0.0688 - accuracy: 0.9658\n",
            "Epoch 86/200\n",
            "5/5 [==============================] - 0s 27ms/step - loss: 0.0639 - accuracy: 0.9726\n",
            "Epoch 87/200\n",
            "5/5 [==============================] - 0s 25ms/step - loss: 0.0622 - accuracy: 0.9658\n",
            "Epoch 88/200\n",
            "5/5 [==============================] - 0s 26ms/step - loss: 0.0663 - accuracy: 0.9658\n",
            "Epoch 89/200\n",
            "5/5 [==============================] - 0s 24ms/step - loss: 0.0712 - accuracy: 0.9521\n",
            "Epoch 90/200\n",
            "5/5 [==============================] - 0s 23ms/step - loss: 0.0615 - accuracy: 0.9658\n",
            "Epoch 91/200\n",
            "5/5 [==============================] - 0s 23ms/step - loss: 0.0599 - accuracy: 0.9658\n",
            "Epoch 92/200\n",
            "5/5 [==============================] - 0s 23ms/step - loss: 0.0595 - accuracy: 0.9658\n",
            "Epoch 93/200\n",
            "5/5 [==============================] - 0s 26ms/step - loss: 0.0655 - accuracy: 0.9658\n",
            "Epoch 94/200\n",
            "5/5 [==============================] - 0s 24ms/step - loss: 0.0638 - accuracy: 0.9589\n",
            "Epoch 95/200\n",
            "5/5 [==============================] - 0s 28ms/step - loss: 0.0625 - accuracy: 0.9658\n",
            "Epoch 96/200\n",
            "5/5 [==============================] - 0s 23ms/step - loss: 0.0592 - accuracy: 0.9658\n",
            "Epoch 97/200\n",
            "5/5 [==============================] - 0s 25ms/step - loss: 0.0592 - accuracy: 0.9658\n",
            "Epoch 98/200\n",
            "5/5 [==============================] - 0s 24ms/step - loss: 0.0658 - accuracy: 0.9658\n",
            "Epoch 99/200\n",
            "5/5 [==============================] - 0s 25ms/step - loss: 0.0601 - accuracy: 0.9589\n",
            "Epoch 100/200\n",
            "5/5 [==============================] - 0s 27ms/step - loss: 0.0630 - accuracy: 0.9521\n",
            "Epoch 101/200\n",
            "5/5 [==============================] - 0s 30ms/step - loss: 0.0634 - accuracy: 0.9589\n",
            "Epoch 102/200\n",
            "5/5 [==============================] - 0s 26ms/step - loss: 0.0649 - accuracy: 0.9658\n",
            "Epoch 103/200\n",
            "5/5 [==============================] - 0s 24ms/step - loss: 0.0667 - accuracy: 0.9589\n",
            "Epoch 104/200\n",
            "5/5 [==============================] - 0s 24ms/step - loss: 0.0631 - accuracy: 0.9658\n",
            "Epoch 105/200\n",
            "5/5 [==============================] - 0s 24ms/step - loss: 0.0623 - accuracy: 0.9658\n",
            "Epoch 106/200\n",
            "5/5 [==============================] - 0s 26ms/step - loss: 0.0603 - accuracy: 0.9658\n",
            "Epoch 107/200\n",
            "5/5 [==============================] - 0s 25ms/step - loss: 0.0641 - accuracy: 0.9589\n",
            "Epoch 108/200\n",
            "5/5 [==============================] - 0s 24ms/step - loss: 0.0611 - accuracy: 0.9658\n",
            "Epoch 109/200\n",
            "5/5 [==============================] - 0s 23ms/step - loss: 0.0611 - accuracy: 0.9658\n",
            "Epoch 110/200\n",
            "5/5 [==============================] - 0s 24ms/step - loss: 0.0625 - accuracy: 0.9589\n",
            "Epoch 111/200\n",
            "5/5 [==============================] - 0s 23ms/step - loss: 0.0603 - accuracy: 0.9658\n",
            "Epoch 112/200\n",
            "5/5 [==============================] - 0s 23ms/step - loss: 0.0607 - accuracy: 0.9589\n",
            "Epoch 113/200\n",
            "5/5 [==============================] - 0s 24ms/step - loss: 0.0614 - accuracy: 0.9521\n",
            "Epoch 114/200\n",
            "5/5 [==============================] - 0s 26ms/step - loss: 0.0602 - accuracy: 0.9658\n",
            "Epoch 115/200\n",
            "5/5 [==============================] - 0s 26ms/step - loss: 0.0684 - accuracy: 0.9589\n",
            "Epoch 116/200\n",
            "5/5 [==============================] - 0s 25ms/step - loss: 0.0571 - accuracy: 0.9795\n",
            "Epoch 117/200\n",
            "5/5 [==============================] - 0s 25ms/step - loss: 0.0664 - accuracy: 0.9658\n",
            "Epoch 118/200\n",
            "5/5 [==============================] - 0s 25ms/step - loss: 0.0642 - accuracy: 0.9658\n",
            "Epoch 119/200\n",
            "5/5 [==============================] - 0s 26ms/step - loss: 0.0651 - accuracy: 0.9658\n",
            "Epoch 120/200\n",
            "5/5 [==============================] - 0s 25ms/step - loss: 0.0643 - accuracy: 0.9589\n",
            "Epoch 121/200\n",
            "5/5 [==============================] - 0s 25ms/step - loss: 0.0601 - accuracy: 0.9658\n",
            "Epoch 122/200\n",
            "5/5 [==============================] - 0s 26ms/step - loss: 0.0594 - accuracy: 0.9658\n",
            "Epoch 123/200\n",
            "5/5 [==============================] - 0s 29ms/step - loss: 0.0610 - accuracy: 0.9658\n",
            "Epoch 124/200\n",
            "5/5 [==============================] - 0s 25ms/step - loss: 0.0624 - accuracy: 0.9589\n",
            "Epoch 125/200\n",
            "5/5 [==============================] - 0s 28ms/step - loss: 0.0584 - accuracy: 0.9658\n",
            "Epoch 126/200\n",
            "5/5 [==============================] - 0s 28ms/step - loss: 0.0610 - accuracy: 0.9658\n",
            "Epoch 127/200\n",
            "5/5 [==============================] - 0s 24ms/step - loss: 0.0610 - accuracy: 0.9726\n",
            "Epoch 128/200\n",
            "5/5 [==============================] - 0s 25ms/step - loss: 0.0653 - accuracy: 0.9658\n",
            "Epoch 129/200\n",
            "5/5 [==============================] - 0s 26ms/step - loss: 0.0655 - accuracy: 0.9589\n",
            "Epoch 130/200\n",
            "5/5 [==============================] - 0s 25ms/step - loss: 0.0594 - accuracy: 0.9658\n",
            "Epoch 131/200\n",
            "5/5 [==============================] - 0s 26ms/step - loss: 0.0620 - accuracy: 0.9521\n",
            "Epoch 132/200\n",
            "5/5 [==============================] - 0s 26ms/step - loss: 0.0612 - accuracy: 0.9658\n",
            "Epoch 133/200\n",
            "5/5 [==============================] - 0s 27ms/step - loss: 0.0630 - accuracy: 0.9521\n",
            "Epoch 134/200\n",
            "5/5 [==============================] - 0s 25ms/step - loss: 0.0600 - accuracy: 0.9658\n",
            "Epoch 135/200\n",
            "5/5 [==============================] - 0s 27ms/step - loss: 0.0602 - accuracy: 0.9658\n",
            "Epoch 136/200\n",
            "5/5 [==============================] - 0s 27ms/step - loss: 0.0631 - accuracy: 0.9589\n",
            "Epoch 137/200\n",
            "5/5 [==============================] - 0s 26ms/step - loss: 0.0624 - accuracy: 0.9658\n",
            "Epoch 138/200\n",
            "5/5 [==============================] - 0s 29ms/step - loss: 0.0671 - accuracy: 0.9658\n",
            "Epoch 139/200\n",
            "5/5 [==============================] - 0s 27ms/step - loss: 0.0610 - accuracy: 0.9658\n",
            "Epoch 140/200\n",
            "5/5 [==============================] - 0s 24ms/step - loss: 0.0573 - accuracy: 0.9726\n",
            "Epoch 141/200\n",
            "5/5 [==============================] - 0s 23ms/step - loss: 0.0601 - accuracy: 0.9658\n",
            "Epoch 142/200\n",
            "5/5 [==============================] - 0s 24ms/step - loss: 0.0634 - accuracy: 0.9658\n",
            "Epoch 143/200\n",
            "5/5 [==============================] - 0s 25ms/step - loss: 0.0624 - accuracy: 0.9589\n",
            "Epoch 144/200\n",
            "5/5 [==============================] - 0s 26ms/step - loss: 0.0609 - accuracy: 0.9658\n",
            "Epoch 145/200\n",
            "5/5 [==============================] - 0s 26ms/step - loss: 0.0585 - accuracy: 0.9726\n",
            "Epoch 146/200\n",
            "5/5 [==============================] - 0s 24ms/step - loss: 0.0611 - accuracy: 0.9658\n",
            "Epoch 147/200\n",
            "5/5 [==============================] - 0s 24ms/step - loss: 0.0614 - accuracy: 0.9658\n",
            "Epoch 148/200\n",
            "5/5 [==============================] - 0s 23ms/step - loss: 0.0602 - accuracy: 0.9658\n",
            "Epoch 149/200\n",
            "5/5 [==============================] - 0s 24ms/step - loss: 0.0603 - accuracy: 0.9658\n",
            "Epoch 150/200\n",
            "5/5 [==============================] - 0s 24ms/step - loss: 0.0592 - accuracy: 0.9658\n",
            "Epoch 151/200\n",
            "5/5 [==============================] - 0s 23ms/step - loss: 0.0596 - accuracy: 0.9726\n",
            "Epoch 152/200\n",
            "5/5 [==============================] - 0s 23ms/step - loss: 0.0608 - accuracy: 0.9658\n",
            "Epoch 153/200\n",
            "5/5 [==============================] - 0s 25ms/step - loss: 0.0580 - accuracy: 0.9658\n",
            "Epoch 154/200\n",
            "5/5 [==============================] - 0s 24ms/step - loss: 0.0637 - accuracy: 0.9452\n",
            "Epoch 155/200\n",
            "5/5 [==============================] - 0s 23ms/step - loss: 0.0640 - accuracy: 0.9589\n",
            "Epoch 156/200\n",
            "5/5 [==============================] - 0s 24ms/step - loss: 0.0654 - accuracy: 0.9658\n",
            "Epoch 157/200\n",
            "5/5 [==============================] - 0s 25ms/step - loss: 0.0618 - accuracy: 0.9658\n",
            "Epoch 158/200\n",
            "5/5 [==============================] - 0s 24ms/step - loss: 0.0604 - accuracy: 0.9521\n",
            "Epoch 159/200\n",
            "5/5 [==============================] - 0s 23ms/step - loss: 0.0703 - accuracy: 0.9658\n",
            "Epoch 160/200\n",
            "5/5 [==============================] - 0s 23ms/step - loss: 0.0620 - accuracy: 0.9658\n",
            "Epoch 161/200\n",
            "5/5 [==============================] - 0s 25ms/step - loss: 0.0619 - accuracy: 0.9658\n",
            "Epoch 162/200\n",
            "5/5 [==============================] - 0s 23ms/step - loss: 0.0628 - accuracy: 0.9658\n",
            "Epoch 163/200\n",
            "5/5 [==============================] - 0s 25ms/step - loss: 0.0608 - accuracy: 0.9658\n",
            "Epoch 164/200\n",
            "5/5 [==============================] - 0s 25ms/step - loss: 0.0607 - accuracy: 0.9521\n",
            "Epoch 165/200\n",
            "5/5 [==============================] - 0s 24ms/step - loss: 0.0628 - accuracy: 0.9658\n",
            "Epoch 166/200\n",
            "5/5 [==============================] - 0s 23ms/step - loss: 0.0603 - accuracy: 0.9658\n",
            "Epoch 167/200\n",
            "5/5 [==============================] - 0s 24ms/step - loss: 0.0590 - accuracy: 0.9658\n",
            "Epoch 168/200\n",
            "5/5 [==============================] - 0s 25ms/step - loss: 0.0607 - accuracy: 0.9521\n",
            "Epoch 169/200\n",
            "5/5 [==============================] - 0s 26ms/step - loss: 0.0600 - accuracy: 0.9521\n",
            "Epoch 170/200\n",
            "5/5 [==============================] - 0s 26ms/step - loss: 0.0598 - accuracy: 0.9521\n",
            "Epoch 171/200\n",
            "5/5 [==============================] - 0s 25ms/step - loss: 0.0609 - accuracy: 0.9589\n",
            "Epoch 172/200\n",
            "5/5 [==============================] - 0s 23ms/step - loss: 0.0612 - accuracy: 0.9589\n",
            "Epoch 173/200\n",
            "5/5 [==============================] - 0s 23ms/step - loss: 0.0588 - accuracy: 0.9658\n",
            "Epoch 174/200\n",
            "5/5 [==============================] - 0s 24ms/step - loss: 0.0586 - accuracy: 0.9658\n",
            "Epoch 175/200\n",
            "5/5 [==============================] - 0s 23ms/step - loss: 0.0599 - accuracy: 0.9658\n",
            "Epoch 176/200\n",
            "5/5 [==============================] - 0s 26ms/step - loss: 0.0602 - accuracy: 0.9589\n",
            "Epoch 177/200\n",
            "5/5 [==============================] - 0s 24ms/step - loss: 0.0605 - accuracy: 0.9658\n",
            "Epoch 178/200\n",
            "5/5 [==============================] - 0s 24ms/step - loss: 0.0636 - accuracy: 0.9658\n",
            "Epoch 179/200\n",
            "5/5 [==============================] - 0s 24ms/step - loss: 0.0613 - accuracy: 0.9658\n",
            "Epoch 180/200\n",
            "5/5 [==============================] - 0s 23ms/step - loss: 0.0604 - accuracy: 0.9521\n",
            "Epoch 181/200\n",
            "5/5 [==============================] - 0s 23ms/step - loss: 0.0604 - accuracy: 0.9658\n",
            "Epoch 182/200\n",
            "5/5 [==============================] - 0s 23ms/step - loss: 0.0585 - accuracy: 0.9658\n",
            "Epoch 183/200\n",
            "5/5 [==============================] - 0s 26ms/step - loss: 0.0602 - accuracy: 0.9589\n",
            "Epoch 184/200\n",
            "5/5 [==============================] - 0s 25ms/step - loss: 0.0611 - accuracy: 0.9658\n",
            "Epoch 185/200\n",
            "5/5 [==============================] - 0s 25ms/step - loss: 0.0634 - accuracy: 0.9658\n",
            "Epoch 186/200\n",
            "5/5 [==============================] - 0s 24ms/step - loss: 0.0601 - accuracy: 0.9589\n",
            "Epoch 187/200\n",
            "5/5 [==============================] - 0s 24ms/step - loss: 0.0598 - accuracy: 0.9658\n",
            "Epoch 188/200\n",
            "5/5 [==============================] - 0s 24ms/step - loss: 0.0604 - accuracy: 0.9658\n",
            "Epoch 189/200\n",
            "5/5 [==============================] - 0s 27ms/step - loss: 0.0609 - accuracy: 0.9658\n",
            "Epoch 190/200\n",
            "5/5 [==============================] - 0s 30ms/step - loss: 0.0592 - accuracy: 0.9658\n",
            "Epoch 191/200\n",
            "5/5 [==============================] - 0s 27ms/step - loss: 0.0582 - accuracy: 0.9658\n",
            "Epoch 192/200\n",
            "5/5 [==============================] - 0s 24ms/step - loss: 0.0591 - accuracy: 0.9658\n",
            "Epoch 193/200\n",
            "5/5 [==============================] - 0s 26ms/step - loss: 0.0610 - accuracy: 0.9589\n",
            "Epoch 194/200\n",
            "5/5 [==============================] - 0s 27ms/step - loss: 0.0591 - accuracy: 0.9658\n",
            "Epoch 195/200\n",
            "5/5 [==============================] - 0s 30ms/step - loss: 0.0626 - accuracy: 0.9521\n",
            "Epoch 196/200\n",
            "5/5 [==============================] - 0s 26ms/step - loss: 0.0600 - accuracy: 0.9658\n",
            "Epoch 197/200\n",
            "5/5 [==============================] - 0s 28ms/step - loss: 0.0623 - accuracy: 0.9658\n",
            "Epoch 198/200\n",
            "5/5 [==============================] - 0s 30ms/step - loss: 0.0613 - accuracy: 0.9589\n",
            "Epoch 199/200\n",
            "5/5 [==============================] - 0s 26ms/step - loss: 0.0585 - accuracy: 0.9658\n",
            "Epoch 200/200\n",
            "5/5 [==============================] - 0s 27ms/step - loss: 0.0597 - accuracy: 0.9658\n"
          ],
          "name": "stdout"
        }
      ]
    },
    {
      "cell_type": "code",
      "metadata": {
        "id": "XLtzUkxMVXRs",
        "colab_type": "code",
        "colab": {
          "base_uri": "https://localhost:8080/",
          "height": 265
        },
        "outputId": "43a77fed-3fd9-499e-bf78-a89a2dcf5e99"
      },
      "source": [
        "import matplotlib.pyplot as plt\n",
        "acc = history.history['accuracy']\n",
        "epo = range(len(acc))\n",
        "\n",
        "plt.plot(epo, acc, label='training_accuracy')\n",
        "plt.legend()\n",
        "plt.show()"
      ],
      "execution_count": 123,
      "outputs": [
        {
          "output_type": "display_data",
          "data": {
            "image/png": "[encoded data removed]",
            "text/plain": [
              "<Figure size 432x288 with 1 Axes>"
            ]
          },
          "metadata": {
            "tags": [],
            "needs_background": "light"
          }
        }
      ]
    },
    {
      "cell_type": "code",
      "metadata": {
        "id": "b3Zu3x_jWA7M",
        "colab_type": "code",
        "colab": {
          "base_uri": "https://localhost:8080/",
          "height": 34
        },
        "outputId": "f810f583-b2f0-4647-c367-8566425a0c1e"
      },
      "source": [
        "seed_text = \"Meri duaaon ke ishaaron\"\n",
        "next_words=10\n",
        "\n",
        "for _ in range(next_words):\n",
        "  token_text = tokenizer.texts_to_sequences([seed_text])[0]\n",
        "  token_list = pad_sequences([token_text], maxlen=max_length-1, padding='pre')\n",
        "  predicted = model.predict_classes(token_list, verbose=0)\n",
        "  output_word=\"\"\n",
        "  for word, index in tokenizer.word_index.items():\n",
        "    if index == predicted:\n",
        "      output_word = word\n",
        "      break\n",
        "  seed_text += \" \" + output_word\n",
        "print(seed_text)\n"
      ],
      "execution_count": 124,
      "outputs": [
        {
          "output_type": "stream",
          "text": [
            "Meri duaaon ke ishaaron ko sahaare de naye bahaane de waade de waade de\n"
          ],
          "name": "stdout"
        }
      ]
    },
    {
      "cell_type": "code",
      "metadata": {
        "id": "7e1JGDi5Z5Xl",
        "colab_type": "code",
        "colab": {}
      },
      "source": [
        ""
      ],
      "execution_count": 0,
      "outputs": []
    }
  ]
}