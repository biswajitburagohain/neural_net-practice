{
  "nbformat": 4,
  "nbformat_minor": 0,
  "metadata": {
    "colab": {
      "name": "text_processing.ipynb",
      "provenance": [],
      "collapsed_sections": [],
      "authorship_tag": "ABX9TyNVUmhmAYHflmayaO0oK+PA",
      "include_colab_link": true
    },
    "kernelspec": {
      "name": "python3",
      "display_name": "Python 3"
    }
  },
  "cells": [
    {
      "cell_type": "markdown",
      "metadata": {
        "id": "view-in-github",
        "colab_type": "text"
      },
      "source": [
        "<a href=\"https://colab.research.google.com/github/biswajitburagohain/neural_net-practice/blob/master/text_processing.ipynb\" target=\"_parent\"><img src=\"https://colab.research.google.com/assets/colab-badge.svg\" alt=\"Open In Colab\"/></a>"
      ]
    },
    {
      "cell_type": "code",
      "metadata": {
        "id": "aeWtu44S6gNv",
        "colab_type": "code",
        "colab": {}
      },
      "source": [
        "#https://www.tensorflow.org/api_docs/python/tf/keras/preprocessing\n",
        "from tensorflow.keras.preprocessing.text import Tokenizer\n",
        "from tensorflow.keras.preprocessing.sequence import pad_sequences"
      ],
      "execution_count": 0,
      "outputs": []
    },
    {
      "cell_type": "code",
      "metadata": {
        "id": "zQIabWNl8KAm",
        "colab_type": "code",
        "colab": {
          "base_uri": "https://localhost:8080/",
          "height": 34
        },
        "outputId": "2b69c680-653b-4075-b7bc-c3c49d3e461e"
      },
      "source": [
        "sentences = ['I love dogs',\n",
        "             'I love cats',\n",
        "             'do you love my dog?']\n",
        "\n",
        "token = Tokenizer(num_words=100, oov_token= '<unique>')\n",
        "token.fit_on_texts(sentences) # generating tokens for each word\n",
        "word_index = token.word_index\n",
        "print(word_index)"
      ],
      "execution_count": 17,
      "outputs": [
        {
          "output_type": "stream",
          "text": [
            "{'<unique>': 1, 'love': 2, 'i': 3, 'dogs': 4, 'cats': 5, 'do': 6, 'you': 7, 'my': 8, 'dog': 9}\n"
          ],
          "name": "stdout"
        }
      ]
    },
    {
      "cell_type": "code",
      "metadata": {
        "id": "diJ_8Md692S7",
        "colab_type": "code",
        "colab": {
          "base_uri": "https://localhost:8080/",
          "height": 85
        },
        "outputId": "88ddc795-ba35-442d-c689-14111478ba02"
      },
      "source": [
        "sequences = token.texts_to_sequences(sentences) # this will convert the text input into token values\n",
        "padding = pad_sequences(sequences)  #padding values to the left\n",
        "print(padding)\n",
        "print(sequences)"
      ],
      "execution_count": 18,
      "outputs": [
        {
          "output_type": "stream",
          "text": [
            "[[0 0 3 2 4]\n",
            " [0 0 3 2 5]\n",
            " [6 7 2 8 9]]\n",
            "[[3, 2, 4], [3, 2, 5], [6, 7, 2, 8, 9]]\n"
          ],
          "name": "stdout"
        }
      ]
    },
    {
      "cell_type": "code",
      "metadata": {
        "id": "SIMnAO5__xiU",
        "colab_type": "code",
        "colab": {
          "base_uri": "https://localhost:8080/",
          "height": 68
        },
        "outputId": "9404a962-e4d1-40c9-951e-c16dfa4a1925"
      },
      "source": [
        "#testing the tokens on unseen data\n",
        "test = ['I really love my dog',\n",
        "        'my dog name is test']\n",
        "\n",
        "test_seq = token.texts_to_sequences(test)\n",
        "pad = pad_sequences(test_seq)\n",
        "print(pad)\n",
        "print(test_seq)"
      ],
      "execution_count": 20,
      "outputs": [
        {
          "output_type": "stream",
          "text": [
            "[[3 1 2 8 9]\n",
            " [8 9 1 1 1]]\n",
            "[[3, 1, 2, 8, 9], [8, 9, 1, 1, 1]]\n"
          ],
          "name": "stdout"
        }
      ]
    },
    {
      "cell_type": "code",
      "metadata": {
        "id": "OjBwJBU3AfyQ",
        "colab_type": "code",
        "colab": {}
      },
      "source": [
        ""
      ],
      "execution_count": 0,
      "outputs": []
    }
  ]
}