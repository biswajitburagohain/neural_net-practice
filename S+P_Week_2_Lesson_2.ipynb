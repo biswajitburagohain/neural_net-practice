{
  "nbformat": 4,
  "nbformat_minor": 0,
  "metadata": {
    "colab": {
      "name": "S+P Week 2 Lesson 2.ipynb",
      "provenance": [],
      "toc_visible": true
    },
    "kernelspec": {
      "display_name": "Python 3",
      "name": "python3"
    }
  },
  "cells": [
    {
      "cell_type": "code",
      "metadata": {
        "id": "zX4Kg8DUTKWO",
        "colab_type": "code",
        "colab": {}
      },
      "source": [
        "#@title Licensed under the Apache License, Version 2.0 (the \"License\");\n",
        "# you may not use this file except in compliance with the License.\n",
        "# You may obtain a copy of the License at\n",
        "#\n",
        "# https://www.apache.org/licenses/LICENSE-2.0\n",
        "#\n",
        "# Unless required by applicable law or agreed to in writing, software\n",
        "# distributed under the License is distributed on an \"AS IS\" BASIS,\n",
        "# WITHOUT WARRANTIES OR CONDITIONS OF ANY KIND, either express or implied.\n",
        "# See the License for the specific language governing permissions and\n",
        "# limitations under the License."
      ],
      "execution_count": 0,
      "outputs": []
    },
    {
      "cell_type": "markdown",
      "metadata": {
        "colab_type": "text",
        "id": "view-in-github"
      },
      "source": [
        "<a href=\"https://colab.research.google.com/github/lmoroney/dlaicourse/blob/master/TensorFlow%20In%20Practice/Course%204%20-%20S%2BP/S%2BP%20Week%202%20Lesson%202.ipynb\" target=\"_parent\"><img src=\"https://colab.research.google.com/assets/colab-badge.svg\" alt=\"Open In Colab\"/></a>"
      ]
    },
    {
      "cell_type": "code",
      "metadata": {
        "colab_type": "code",
        "id": "-pwam8szRReT",
        "colab": {}
      },
      "source": [
        "try:\n",
        "  # %tensorflow_version only exists in Colab.\n",
        "  %tensorflow_version 2.x\n",
        "except Exception:\n",
        "  pass"
      ],
      "execution_count": 0,
      "outputs": []
    },
    {
      "cell_type": "code",
      "metadata": {
        "colab_type": "code",
        "id": "BOjujz601HcS",
        "colab": {
          "base_uri": "https://localhost:8080/",
          "height": 34
        },
        "outputId": "ccf73bdb-1191-42eb-a7c9-4bd7d2b75234"
      },
      "source": [
        "import tensorflow as tf\n",
        "import numpy as np\n",
        "import matplotlib.pyplot as plt\n",
        "print(tf.__version__)"
      ],
      "execution_count": 5,
      "outputs": [
        {
          "output_type": "stream",
          "text": [
            "2.2.0\n"
          ],
          "name": "stdout"
        }
      ]
    },
    {
      "cell_type": "code",
      "metadata": {
        "colab_type": "code",
        "id": "Zswl7jRtGzkk",
        "colab": {}
      },
      "source": [
        "def plot_series(time, series, format=\"-\", start=0, end=None):\n",
        "    plt.plot(time[start:end], series[start:end], format)\n",
        "    plt.xlabel(\"Time\")\n",
        "    plt.ylabel(\"Value\")\n",
        "    plt.grid(True)\n",
        "\n",
        "def trend(time, slope=0):\n",
        "    return slope * time\n",
        "\n",
        "def seasonal_pattern(season_time):\n",
        "    \"\"\"Just an arbitrary pattern, you can change it if you wish\"\"\"\n",
        "    return np.where(season_time < 0.4,\n",
        "                    np.cos(season_time * 2 * np.pi),\n",
        "                    1 / np.exp(3 * season_time))\n",
        "\n",
        "def seasonality(time, period, amplitude=1, phase=0):\n",
        "    \"\"\"Repeats the same pattern at each period\"\"\"\n",
        "    season_time = ((time + phase) % period) / period\n",
        "    return amplitude * seasonal_pattern(season_time)\n",
        "\n",
        "def noise(time, noise_level=1, seed=None):\n",
        "    rnd = np.random.RandomState(seed)\n",
        "    return rnd.randn(len(time)) * noise_level\n",
        "\n",
        "time = np.arange(4 * 365 + 1, dtype=\"float32\")\n",
        "baseline = 10\n",
        "series = trend(time, 0.1)  \n",
        "baseline = 10\n",
        "amplitude = 40\n",
        "slope = 0.05\n",
        "noise_level = 5\n",
        "\n",
        "# Create the series\n",
        "series = baseline + trend(time, slope) + seasonality(time, period=365, amplitude=amplitude)\n",
        "# Update with noise\n",
        "series += noise(time, noise_level, seed=42)\n",
        "\n",
        "split_time = 1000\n",
        "time_train = time[:split_time]\n",
        "x_train = series[:split_time]\n",
        "time_valid = time[split_time:]\n",
        "x_valid = series[split_time:]\n",
        "\n",
        "window_size = 20\n",
        "batch_size = 32\n",
        "shuffle_buffer_size = 1000"
      ],
      "execution_count": 0,
      "outputs": []
    },
    {
      "cell_type": "code",
      "metadata": {
        "colab_type": "code",
        "id": "4sTTIOCbyShY",
        "colab": {}
      },
      "source": [
        "def windowed_dataset(series, window_size, batch_size, shuffle_buffer):\n",
        "  dataset = tf.data.Dataset.from_tensor_slices(series)\n",
        "  dataset = dataset.window(window_size + 1, shift=1, drop_remainder=True)\n",
        "  dataset = dataset.flat_map(lambda window: window.batch(window_size + 1))\n",
        "  dataset = dataset.shuffle(shuffle_buffer).map(lambda window: (window[:-1], window[-1]))\n",
        "  dataset = dataset.batch(batch_size).prefetch(1)\n",
        "  return dataset"
      ],
      "execution_count": 0,
      "outputs": []
    },
    {
      "cell_type": "code",
      "metadata": {
        "id": "aH06kemOHAEb",
        "colab_type": "code",
        "colab": {
          "base_uri": "https://localhost:8080/",
          "height": 1000
        },
        "outputId": "ec83540d-9e0c-41eb-df68-7a98c0d60a26"
      },
      "source": [
        "x_train"
      ],
      "execution_count": 8,
      "outputs": [
        {
          "output_type": "execute_result",
          "data": {
            "text/plain": [
              "array([ 52.48357   ,  49.35275   ,  53.314735  ,  57.711823  ,\n",
              "        48.934444  ,  48.931244  ,  57.982895  ,  53.897125  ,\n",
              "        47.67393   ,  52.68371   ,  47.591717  ,  47.506374  ,\n",
              "        50.959415  ,  40.086178  ,  40.919415  ,  46.612473  ,\n",
              "        44.228207  ,  50.720642  ,  44.454983  ,  41.76799   ,\n",
              "        55.980938  ,  47.335835  ,  48.6033    ,  40.93184   ,\n",
              "        45.11266   ,  48.15732   ,  41.6051    ,  48.985233  ,\n",
              "        43.839634  ,  45.109936  ,  43.275043  ,  55.249832  ,\n",
              "        45.615612  ,  40.079105  ,  49.154957  ,  38.602703  ,\n",
              "        45.406162  ,  34.208767  ,  37.00193   ,  44.25351   ,\n",
              "        46.578594  ,  43.35101   ,  41.514812  ,  40.177532  ,\n",
              "        33.871693  ,  37.237713  ,  38.097908  ,  45.242546  ,\n",
              "        41.222683  ,  30.229015  ,  40.196377  ,  36.174564  ,\n",
              "        34.231815  ,  40.183838  ,  41.78223   ,  40.778324  ,\n",
              "        31.413609  ,  33.544636  ,  36.22143   ,  38.910835  ,\n",
              "        31.098982  ,  32.022236  ,  26.868631  ,  25.863333  ,\n",
              "        35.345516  ,  37.49725   ,  29.783985  ,  34.584694  ,\n",
              "        30.793396  ,  25.17319   ,  29.614908  ,  34.903008  ,\n",
              "        26.434551  ,  33.833897  ,  12.305289  ,  28.903387  ,\n",
              "        24.615705  ,  22.06895   ,  23.403429  ,  12.384742  ,\n",
              "        20.599699  ,  22.856821  ,  27.831846  ,  17.22026   ,\n",
              "        15.136701  ,  16.036467  ,  22.487074  ,  18.91756   ,\n",
              "        13.98788   ,  18.565226  ,  15.846029  ,  19.565367  ,\n",
              "        10.573323  ,  11.806878  ,  10.846607  ,   4.8520856 ,\n",
              "        13.013545  ,  12.202472  ,  10.28818   ,   8.456475  ,\n",
              "         1.9209299 ,   6.2647085 ,   6.02649   ,   3.1029897 ,\n",
              "         5.6846423 ,   7.8905945 ,  14.683323  ,   5.5103145 ,\n",
              "         5.3133783 ,   3.0449743 ,  -6.7815113 ,   2.0786734 ,\n",
              "         1.9152563 ,  13.337309  ,  -0.52937263,   1.3560262 ,\n",
              "        -0.90470564,  -7.1490674 ,   3.8389826 ,   1.320357  ,\n",
              "         0.95711476,  -8.09809   ,   2.9155295 , -11.649013  ,\n",
              "        -2.2406242 ,   5.248558  , -11.178716  ,  -9.573152  ,\n",
              "        -6.752203  , -10.269627  , -16.000174  ,  -8.391326  ,\n",
              "       -14.525441  ,  -7.3181014 , -14.747516  ,  -2.8571053 ,\n",
              "       -14.97132   , -13.105373  ,  -7.8591013 , -18.504087  ,\n",
              "       -11.626857  ,  -6.6340213 , -21.603775  , -13.030719  ,\n",
              "       -13.032789  , -10.792066  ,  23.163013  ,  22.696869  ,\n",
              "        31.861048  ,  30.689259  ,  30.41058   ,  30.84493   ,\n",
              "        25.66792   ,  30.18544   ,  30.446434  ,  25.366972  ,\n",
              "        38.226013  ,  31.225473  ,  22.859697  ,  32.05963   ,\n",
              "        23.864828  ,  32.63576   ,  34.45614   ,  24.523287  ,\n",
              "        33.40782   ,  30.619787  ,  32.631824  ,  37.97182   ,\n",
              "        27.227936  ,  24.653889  ,  23.943367  ,  24.280926  ,\n",
              "        27.944168  ,  30.005796  ,  29.654501  ,  32.37862   ,\n",
              "        28.28001   ,  35.455605  ,  26.838215  ,  41.736534  ,\n",
              "        31.238834  ,  23.800137  ,  22.7075    ,  30.450966  ,\n",
              "        26.898535  ,  31.563684  ,  30.338299  ,  27.586983  ,\n",
              "        23.696756  ,  20.33666   ,  25.659061  ,  32.15494   ,\n",
              "        28.92529   ,  21.608559  ,  28.686138  ,  29.73035   ,\n",
              "        23.368555  ,  28.541082  ,  28.048655  ,  22.028439  ,\n",
              "        29.518435  ,  30.52015   ,  33.118732  ,  32.960247  ,\n",
              "        20.791162  ,  22.97916   ,  30.232738  ,  30.216269  ,\n",
              "        30.212847  ,  46.89202   ,  30.474054  ,  33.289154  ,\n",
              "        32.373535  ,  30.853155  ,  26.012995  ,  31.377792  ,\n",
              "        23.712889  ,  26.387451  ,  25.139708  ,  27.971327  ,\n",
              "        39.131126  ,  18.217827  ,  30.982216  ,  19.484531  ,\n",
              "        25.18608   ,  32.98855   ,  27.863678  ,  22.15246   ,\n",
              "        23.963987  ,  30.938232  ,  23.888557  ,  28.623238  ,\n",
              "        27.769768  ,  24.28527   ,  38.26475   ,  30.716782  ,\n",
              "        17.424019  ,  28.484941  ,  24.247059  ,  31.82186   ,\n",
              "        23.60117   ,  26.994549  ,  30.098     ,  31.90704   ,\n",
              "        21.58235   ,  25.917253  ,  25.221323  ,  24.336056  ,\n",
              "        36.436977  ,  29.64197   ,  21.320347  ,  32.222126  ,\n",
              "        38.251995  ,  32.812275  ,  20.062172  ,  25.247257  ,\n",
              "        34.012722  ,  24.14989   ,  29.917734  ,  31.582527  ,\n",
              "        23.085745  ,  27.434132  ,  11.5371    ,  22.63349   ,\n",
              "        26.50489   ,  21.541426  ,  35.955315  ,  20.655773  ,\n",
              "        25.61978   ,  28.487524  ,  35.054302  ,  20.683037  ,\n",
              "        33.692867  ,  27.943205  ,  22.999773  ,  30.233395  ,\n",
              "        28.934015  ,  24.953756  ,  28.320253  ,  26.06135   ,\n",
              "        28.57245   ,  31.332735  ,  35.969654  ,  21.868246  ,\n",
              "        38.740505  ,  18.333178  ,  27.353228  ,  31.072536  ,\n",
              "        29.55496   ,  25.05581   ,  27.14825   ,  25.743662  ,\n",
              "        25.281895  ,  32.497025  ,  30.054634  ,  24.825788  ,\n",
              "        32.809357  ,  29.869114  ,  32.418423  ,  31.52398   ,\n",
              "        24.252817  ,  25.619074  ,  32.178864  ,  31.51689   ,\n",
              "        28.383394  ,  29.097626  ,  34.92262   ,  25.599964  ,\n",
              "        31.317053  ,  27.594559  ,  27.541286  ,  34.147957  ,\n",
              "        32.805748  ,  32.771015  ,  35.255863  ,  28.8587    ,\n",
              "        32.188858  ,  27.253374  ,  30.451357  ,  28.205822  ,\n",
              "        29.367723  ,  31.884932  ,  24.84464   ,  39.42447   ,\n",
              "        23.959423  ,  22.945732  ,  34.834587  ,  33.02988   ,\n",
              "        32.21989   ,  32.268925  ,  29.094048  ,  24.697277  ,\n",
              "        29.591013  ,  25.8548    ,  34.145004  ,  28.563086  ,\n",
              "        25.200027  ,  27.749893  ,  31.45096   ,  26.59733   ,\n",
              "        25.334665  ,  30.694183  ,  30.730724  ,  27.001482  ,\n",
              "        27.211473  ,  30.757544  ,  22.38766   ,  22.621704  ,\n",
              "        26.097902  ,  28.654142  ,  31.307323  ,  37.161125  ,\n",
              "        34.104355  ,  29.048223  ,  29.784843  ,  24.899433  ,\n",
              "        29.85182   ,  28.533539  ,  31.623013  ,  25.906002  ,\n",
              "        32.67176   ,  37.77174   ,  29.597399  ,  32.18305   ,\n",
              "        33.65864   ,  66.2439    ,  69.414536  ,  68.38926   ,\n",
              "        68.83505   ,  64.49016   ,  68.47448   ,  70.82682   ,\n",
              "        75.56567   ,  73.06766   ,  78.986824  ,  64.32207   ,\n",
              "        72.446625  ,  68.91631   ,  78.85159   ,  63.752514  ,\n",
              "        63.475304  ,  64.5454    ,  56.779926  ,  64.616325  ,\n",
              "        63.28385   ,  67.65466   ,  68.4235    ,  75.89651   ,\n",
              "        71.0577    ,  63.200054  ,  61.360634  ,  68.069664  ,\n",
              "        58.755577  ,  74.25012   ,  70.71561   ,  62.1877    ,\n",
              "        55.672768  ,  70.70246   ,  63.04496   ,  69.481316  ,\n",
              "        54.984783  ,  59.61497   ,  62.283337  ,  62.12776   ,\n",
              "        59.268875  ,  64.25051   ,  55.40607   ,  59.631157  ,\n",
              "        60.53453   ,  62.086494  ,  62.645008  ,  53.02789   ,\n",
              "        50.536366  ,  64.142975  ,  58.955788  ,  53.083527  ,\n",
              "        64.105736  ,  56.444798  ,  61.271942  ,  55.21483   ,\n",
              "        64.67567   ,  62.6364    ,  52.09588   ,  57.672966  ,\n",
              "        55.509987  ,  58.588013  ,  46.375916  ,  54.080563  ,\n",
              "        55.38649   ,  40.739193  ,  43.049755  ,  38.197876  ,\n",
              "        46.469997  ,  50.822926  ,  54.160572  ,  46.428406  ,\n",
              "        53.605907  ,  37.963173  ,  35.743767  ,  43.376278  ,\n",
              "        44.964203  ,  42.267     ,  31.476778  ,  40.74903   ,\n",
              "        34.05024   ,  43.29642   ,  41.15425   ,  33.992973  ,\n",
              "        35.49228   ,  32.133102  ,  36.481853  ,  40.935776  ,\n",
              "        30.595173  ,  37.406914  ,  31.5976    ,  29.646276  ,\n",
              "        32.436993  ,  27.157375  ,  28.926945  ,  25.067759  ,\n",
              "        40.243286  ,  29.959265  ,  25.648567  ,  29.582514  ,\n",
              "        27.31777   ,  26.142935  ,  29.688772  ,  29.7776    ,\n",
              "        22.711872  ,  21.861979  ,  22.74508   ,  11.99279   ,\n",
              "        15.311469  ,  29.109999  ,  29.892042  ,  19.817163  ,\n",
              "        23.34403   ,  21.420355  ,  34.665504  ,  24.280306  ,\n",
              "        17.458702  ,  12.741154  ,   8.912089  ,  17.392189  ,\n",
              "        12.028938  ,   8.140686  ,  11.465986  ,   8.743816  ,\n",
              "        22.045954  ,  17.48329   ,  12.506416  ,  19.42369   ,\n",
              "        11.895177  ,   6.6931214 ,  18.11337   ,  12.697694  ,\n",
              "         4.3296328 ,   8.084382  ,   4.185847  ,   1.185607  ,\n",
              "        12.274111  ,  16.742033  ,  -0.23790547,   9.138161  ,\n",
              "         2.6470213 ,   3.0502167 ,   2.1182992 ,   0.36368567,\n",
              "         4.538722  ,  -0.2369535 ,   4.9011045 ,  47.34658   ,\n",
              "        46.35441   ,  42.963524  ,  44.570477  ,  51.18507   ,\n",
              "        49.86728   ,  42.430267  ,  47.770836  ,  50.988007  ,\n",
              "        38.8417    ,  49.86395   ,  43.793186  ,  49.91921   ,\n",
              "        43.210567  ,  37.963825  ,  38.81263   ,  47.153587  ,\n",
              "        48.17531   ,  42.31936   ,  49.998848  ,  38.46393   ,\n",
              "        46.40746   ,  40.649796  ,  43.413387  ,  46.87793   ,\n",
              "        42.307915  ,  44.656895  ,  51.5815    ,  43.63659   ,\n",
              "        50.67116   ,  40.81647   ,  49.086952  ,  53.619343  ,\n",
              "        34.027466  ,  42.37602   ,  49.22129   ,  45.29673   ,\n",
              "        48.144333  ,  43.245922  ,  46.676632  ,  45.44373   ,\n",
              "        52.040035  ,  47.452827  ,  47.84891   ,  44.082253  ,\n",
              "        43.68492   ,  43.942028  ,  48.05951   ,  43.965313  ,\n",
              "        47.50264   ,  56.41485   ,  50.37808   ,  44.37749   ,\n",
              "        51.99936   ,  43.93912   ,  35.775608  ,  40.913044  ,\n",
              "        36.58728   ,  44.171944  ,  46.010376  ,  54.289753  ,\n",
              "        47.53197   ,  44.792107  ,  50.02539   ,  34.813927  ,\n",
              "        47.039402  ,  49.707848  ,  38.453266  ,  51.55811   ,\n",
              "        47.52543   ,  43.75058   ,  48.98545   ,  57.16999   ,\n",
              "        46.721287  ,  47.04894   ,  43.50735   ,  41.55169   ,\n",
              "        49.94979   ,  41.51532   ,  46.151627  ,  43.403996  ,\n",
              "        48.186077  ,  47.458817  ,  50.977943  ,  43.240307  ,\n",
              "        44.441574  ,  40.89809   ,  43.571808  ,  47.681534  ,\n",
              "        49.58213   ,  41.188908  ,  50.150696  ,  52.584183  ,\n",
              "        47.876865  ,  55.197754  ,  41.94929   ,  39.599785  ,\n",
              "        36.93466   ,  53.314053  ,  49.111588  ,  45.56813   ,\n",
              "        47.25254   ,  40.23226   ,  58.09582   ,  46.520874  ,\n",
              "        46.429794  ,  49.520046  ,  48.304993  ,  47.02844   ,\n",
              "        41.966053  ,  48.28551   ,  55.34836   ,  52.675735  ,\n",
              "        53.92529   ,  43.414318  ,  41.033737  ,  45.364502  ,\n",
              "        46.284054  ,  51.48869   ,  37.56802   ,  53.691013  ,\n",
              "        45.266438  ,  43.935593  ,  41.0233    ,  37.823654  ,\n",
              "        50.228203  ,  46.493633  ,  39.692234  ,  39.681923  ,\n",
              "        44.49395   ,  54.533825  ,  44.906883  ,  38.70553   ,\n",
              "        45.0092    ,  44.891247  ,  32.78765   ,  46.018097  ,\n",
              "        45.15265   ,  49.806374  ,  55.588398  ,  51.994976  ,\n",
              "        45.036507  ,  40.86737   ,  59.286106  ,  46.734955  ,\n",
              "        46.52831   ,  46.358097  ,  47.48944   ,  45.797756  ,\n",
              "        43.672028  ,  43.82706   ,  46.418854  ,  43.886986  ,\n",
              "        43.061607  ,  47.179943  ,  45.395092  ,  54.212364  ,\n",
              "        33.46019   ,  52.195435  ,  52.991413  ,  36.417343  ,\n",
              "        45.094387  ,  44.97436   ,  39.817963  ,  42.99061   ,\n",
              "        41.351192  ,  55.690018  ,  51.631855  ,  53.336246  ,\n",
              "        50.61204   ,  41.383835  ,  44.43211   ,  49.527397  ,\n",
              "        40.9959    ,  50.697735  ,  45.95752   ,  45.31164   ,\n",
              "        50.76733   ,  49.460827  ,  45.46184   ,  53.09068   ,\n",
              "        41.916256  ,  50.42897   ,  50.342705  ,  45.857548  ,\n",
              "        49.064213  ,  41.20642   ,  52.11075   ,  46.594894  ,\n",
              "        44.934753  ,  52.822556  ,  44.08511   ,  40.594     ,\n",
              "        39.88281   ,  50.725815  ,  41.3236    ,  56.529865  ,\n",
              "        37.376553  ,  56.298946  ,  48.90238   ,  47.394512  ,\n",
              "        45.184433  ,  49.935806  ,  47.783203  ,  53.519295  ,\n",
              "        48.60548   ,  48.81757   ,  46.279854  ,  47.845196  ,\n",
              "        49.70109   ,  39.64354   ,  41.485905  ,  51.975742  ,\n",
              "        49.146484  ,  47.405113  ,  48.450214  ,  50.12911   ,\n",
              "        45.725693  ,  44.566395  ,  87.479225  ,  81.65221   ,\n",
              "        88.61756   ,  78.08376   ,  91.750984  ,  88.96491   ,\n",
              "        87.86698   ,  91.473404  ,  94.84867   ,  91.54276   ,\n",
              "        77.20444   ,  79.93713   ,  83.12551   ,  86.283035  ,\n",
              "        88.6323    ,  82.2952    ,  86.72619   ,  81.8725    ,\n",
              "        82.437515  ,  78.29621   ,  80.53653   ,  78.2063    ,\n",
              "        79.88629   ,  89.8238    ,  79.58758   ,  97.26462   ,\n",
              "        86.32665   ,  84.53093   ,  79.05104   ,  86.569954  ,\n",
              "        79.90539   ,  83.09849   ,  94.98353   ,  81.38736   ,\n",
              "        87.288605  ,  77.69104   ,  80.686905  ,  89.36113   ,\n",
              "        77.00803   ,  88.83144   ,  82.92502   ,  76.18184   ,\n",
              "        81.7551    ,  83.04583   ,  80.873344  ,  69.48581   ,\n",
              "        73.26541   ,  75.219345  ,  75.63242   ,  78.64758   ,\n",
              "        75.96446   ,  67.923256  ,  76.01741   ,  76.67838   ,\n",
              "        75.926186  ,  78.025826  ,  76.279305  ,  73.8866    ,\n",
              "        70.71429   ,  62.228306  ,  72.14295   ,  70.48897   ,\n",
              "        70.2582    ,  61.960625  ,  62.37761   ,  72.48181   ,\n",
              "        66.44626   ,  69.47453   ,  65.62681   ,  65.04757   ,\n",
              "        68.99935   ,  61.132603  ,  63.594288  ,  60.199306  ,\n",
              "        59.731533  ,  59.748016  ,  61.791138  ,  57.670246  ,\n",
              "        65.72341   ,  54.34955   ,  57.263702  ,  55.372604  ,\n",
              "        64.17726   ,  57.294388  ,  60.83839   ,  47.617447  ,\n",
              "        55.74531   ,  58.221962  ,  53.5481    ,  57.82629   ,\n",
              "        49.2742    ,  58.26888   ,  62.078083  ,  48.130997  ,\n",
              "        47.079636  ,  55.936584  ,  55.930805  ,  44.782898  ,\n",
              "        44.661682  ,  44.720486  ,  38.77553   ,  40.274677  ,\n",
              "        39.219364  ,  39.77539   ,  42.817646  ,  43.541412  ,\n",
              "        49.504894  ,  36.145657  ,  45.44724   ,  38.847263  ,\n",
              "        39.065025  ,  42.08534   ,  32.500496  ,  39.433147  ,\n",
              "        37.764694  ,  38.810547  ,  37.214695  ,  47.470825  ,\n",
              "        31.43617   ,  31.405706  ,  30.38625   ,  30.17146   ,\n",
              "        29.214622  ,  37.80533   ,  38.427612  ,  27.942549  ,\n",
              "        26.112188  ,  32.115417  ,  26.488426  ,  31.91241   ,\n",
              "        29.26776   ,  20.18714   ,  35.023605  ,  35.793327  ,\n",
              "        23.285662  ,  23.954716  ,  26.874273  ,  26.67722   ,\n",
              "        27.866035  ,  34.201256  ,  22.851107  ,  19.33878   ,\n",
              "        16.037046  ,  18.891464  ,  22.002163  ,  30.77161   ,\n",
              "        63.25971   ,  66.9181    ,  65.66923   ,  71.64629   ,\n",
              "        78.29278   ,  62.958344  ,  63.12085   ,  70.74497   ,\n",
              "        68.890526  ,  74.672264  ,  68.31678   ,  63.55985   ,\n",
              "        68.26949   ,  70.82038   ,  69.340645  ,  67.73671   ,\n",
              "        70.49654   ,  70.973175  ,  72.00174   ,  68.29944   ,\n",
              "        64.18593   ,  65.72143   ,  70.98743   ,  60.83789   ,\n",
              "        66.73431   ,  62.893284  ,  64.973404  ,  71.1923    ,\n",
              "        65.72655   ,  64.97489   ,  57.915714  ,  68.419205  ,\n",
              "        67.88892   ,  75.451965  ,  63.071606  ,  65.68167   ,\n",
              "        65.80888   ,  72.42587   ,  64.03937   ,  65.888794  ,\n",
              "        67.51159   ,  65.38417   ,  62.19856   ,  65.38135   ,\n",
              "        69.759796  ,  59.24037   ,  65.01967   ,  60.836647  ,\n",
              "        70.29547   ,  56.687828  ,  61.493233  ,  66.15852   ,\n",
              "        72.08523   ,  63.914536  ,  61.453503  ,  73.62201   ,\n",
              "        56.963406  ,  53.19721   ,  66.379585  ,  61.65801   ,\n",
              "        59.0514    ,  67.68912   ,  65.356606  ,  61.307972  ,\n",
              "        57.718082  ,  68.47362   ,  67.35454   ,  63.60032   ,\n",
              "        73.322525  ,  58.73252   ,  56.449394  ,  60.612007  ,\n",
              "        63.838596  ,  65.278656  ,  62.85165   ,  65.81443   ,\n",
              "        57.79322   ,  71.26694   ,  63.634983  ,  69.63028   ,\n",
              "        65.755905  ,  66.32495   ,  66.88934   ,  66.278786  ,\n",
              "        67.254005  ,  70.68671   ,  65.02451   ,  67.588295  ,\n",
              "        63.59635   ,  71.24777   ,  60.667774  ,  73.05737   ,\n",
              "        63.8552    ,  56.905815  ,  64.7043    ,  60.66297   ,\n",
              "        68.27628   ,  60.815144  ,  61.852913  ,  54.642056  ,\n",
              "        61.834522  ,  51.98331   ,  56.19019   ,  67.919136  ,\n",
              "        68.053764  ,  66.2601    ,  59.30633   ,  63.911392  ,\n",
              "        64.14101   ,  58.376602  ,  71.69516   ,  68.57505   ,\n",
              "        63.09382   ,  64.34379   ,  65.262314  ,  54.023083  ,\n",
              "        63.007553  ,  60.845512  ,  59.259632  ,  62.87484   ,\n",
              "        73.28169   ,  67.5107    ,  61.464104  ,  67.19674   ],\n",
              "      dtype=float32)"
            ]
          },
          "metadata": {
            "tags": []
          },
          "execution_count": 8
        }
      ]
    },
    {
      "cell_type": "code",
      "metadata": {
        "colab_type": "code",
        "id": "ou-WmE2AXu6B",
        "colab": {
          "base_uri": "https://localhost:8080/",
          "height": 374
        },
        "outputId": "dc472857-0f84-41d0-b1e4-d71e6854a104"
      },
      "source": [
        "dataset = windowed_dataset(x_train, window_size, batch_size, shuffle_buffer_size)\n",
        "print(dataset)\n",
        "l0 = tf.keras.layers.Dense(1, input_shape=[window_size])\n",
        "model = tf.keras.models.Sequential([l0])\n",
        "\n",
        "\n",
        "model.compile(loss=\"mse\", optimizer=tf.keras.optimizers.SGD(lr=1e-6, momentum=0.9))\n",
        "model.fit(dataset,epochs=100,verbose=0)\n",
        "\n",
        "print(\"Layer weights {}\".format(l0.get_weights()))\n"
      ],
      "execution_count": 9,
      "outputs": [
        {
          "output_type": "stream",
          "text": [
            "<PrefetchDataset shapes: ((None, None), (None,)), types: (tf.float32, tf.float32)>\n",
            "Layer weights [array([[-0.09261683],\n",
            "       [ 0.05812193],\n",
            "       [-0.00921391],\n",
            "       [ 0.06542481],\n",
            "       [-0.07985243],\n",
            "       [ 0.04650439],\n",
            "       [ 0.00780477],\n",
            "       [ 0.03628998],\n",
            "       [-0.03838834],\n",
            "       [ 0.01753941],\n",
            "       [-0.01863656],\n",
            "       [-0.04698062],\n",
            "       [-0.03063195],\n",
            "       [ 0.06591161],\n",
            "       [ 0.05789202],\n",
            "       [-0.04632819],\n",
            "       [ 0.12464201],\n",
            "       [ 0.15299137],\n",
            "       [ 0.29808155],\n",
            "       [ 0.39627242]], dtype=float32), array([0.0188025], dtype=float32)]\n"
          ],
          "name": "stdout"
        }
      ]
    },
    {
      "cell_type": "code",
      "metadata": {
        "colab_type": "code",
        "id": "-gtVJuLVxR-M",
        "colab": {
          "base_uri": "https://localhost:8080/",
          "height": 388
        },
        "outputId": "d5ae3528-cd70-4f84-c71b-bce3892ddcbc"
      },
      "source": [
        "forecast = []\n",
        "\n",
        "for time in range(len(series) - window_size):\n",
        "  forecast.append(model.predict(series[time:time + window_size][np.newaxis]))\n",
        "\n",
        "forecast = forecast[split_time-window_size:]\n",
        "results = np.array(forecast)[:, 0, 0]\n",
        "\n",
        "\n",
        "plt.figure(figsize=(10, 6))\n",
        "\n",
        "plot_series(time_valid, x_valid)\n",
        "plot_series(time_valid, results)"
      ],
      "execution_count": 10,
      "outputs": [
        {
          "output_type": "display_data",
          "data": {
            "image/png": "[encoded data removed]",
            "text/plain": [
              "<Figure size 720x432 with 1 Axes>"
            ]
          },
          "metadata": {
            "tags": [],
            "needs_background": "light"
          }
        }
      ]
    },
    {
      "cell_type": "code",
      "metadata": {
        "colab_type": "code",
        "id": "hR2BO0Dai_ZT",
        "colab": {
          "base_uri": "https://localhost:8080/",
          "height": 34
        },
        "outputId": "2131ed2d-ee88-431f-9c2b-8ced2d7f17b6"
      },
      "source": [
        "tf.keras.metrics.mean_absolute_error(x_valid, results).numpy()"
      ],
      "execution_count": 11,
      "outputs": [
        {
          "output_type": "execute_result",
          "data": {
            "text/plain": [
              "5.397218"
            ]
          },
          "metadata": {
            "tags": []
          },
          "execution_count": 11
        }
      ]
    }
  ]
}