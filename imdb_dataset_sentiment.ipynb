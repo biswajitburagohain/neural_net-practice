{
  "nbformat": 4,
  "nbformat_minor": 0,
  "metadata": {
    "colab": {
      "name": "imdb_dataset-sentiment.ipynb",
      "provenance": [],
      "collapsed_sections": [],
      "authorship_tag": "ABX9TyNuvJP26Q9ZHnbR2vBlPjel",
      "include_colab_link": true
    },
    "kernelspec": {
      "name": "python3",
      "display_name": "Python 3"
    }
  },
  "cells": [
    {
      "cell_type": "markdown",
      "metadata": {
        "id": "view-in-github",
        "colab_type": "text"
      },
      "source": [
        "<a href=\"https://colab.research.google.com/github/biswajitburagohain/neural_net-practice/blob/master/imdb_dataset_sentiment.ipynb\" target=\"_parent\"><img src=\"https://colab.research.google.com/assets/colab-badge.svg\" alt=\"Open In Colab\"/></a>"
      ]
    },
    {
      "cell_type": "code",
      "metadata": {
        "id": "vxJQhzeUFfWa",
        "colab_type": "code",
        "colab": {}
      },
      "source": [
        "#IMDB database "
      ],
      "execution_count": 0,
      "outputs": []
    },
    {
      "cell_type": "code",
      "metadata": {
        "id": "ON-Z5CZMHMCx",
        "colab_type": "code",
        "colab": {}
      },
      "source": [
        "import tensorflow as tf\n",
        "import numpy as np\n",
        "from tensorflow.keras.preprocessing.text import Tokenizer\n",
        "from tensorflow.keras.preprocessing.sequence import pad_sequences"
      ],
      "execution_count": 0,
      "outputs": []
    },
    {
      "cell_type": "code",
      "metadata": {
        "id": "qa3FpR6eHknt",
        "colab_type": "code",
        "colab": {}
      },
      "source": [
        "import tensorflow_datasets as tfds"
      ],
      "execution_count": 0,
      "outputs": []
    },
    {
      "cell_type": "code",
      "metadata": {
        "id": "IlhSNMZxH4CH",
        "colab_type": "code",
        "colab": {}
      },
      "source": [
        "imdb, info = tfds.load('imdb_reviews', as_supervised=True, with_info=True)"
      ],
      "execution_count": 0,
      "outputs": []
    },
    {
      "cell_type": "code",
      "metadata": {
        "id": "LXl0BU9qIRin",
        "colab_type": "code",
        "colab": {}
      },
      "source": [
        "train_data, test_data = imdb['train'], imdb['test']"
      ],
      "execution_count": 0,
      "outputs": []
    },
    {
      "cell_type": "code",
      "metadata": {
        "id": "0h4CEhJ_Ilxr",
        "colab_type": "code",
        "colab": {}
      },
      "source": [
        "training_sentences = []\n",
        "training_label = []\n",
        "\n",
        "testing_sentences = []\n",
        "testing_label = []\n",
        "\n",
        "for s, l in train_data:\n",
        "  training_sentences.append(str(s.numpy()))\n",
        "  training_label.append(l.numpy())\n",
        "\n",
        "for s, l in test_data:\n",
        "  testing_sentences.append(str(s.numpy()))\n",
        "  testing_label.append(l.numpy())\n",
        "  \n",
        "\n",
        "training_label_final = np.array(training_label)\n",
        "testing_label_final = np.array(testing_label)"
      ],
      "execution_count": 0,
      "outputs": []
    },
    {
      "cell_type": "code",
      "metadata": {
        "id": "dcQ4O2d2JORc",
        "colab_type": "code",
        "colab": {}
      },
      "source": [
        "tokenizer = Tokenizer(10000, oov_token='<OOV>')\n",
        "tokenizer.fit_on_texts(training_sentences)\n",
        "sequences = tokenizer.texts_to_sequences(training_sentences)\n",
        "train_padding = pad_sequences(sequences, maxlen=120, truncating='post')\n",
        "\n",
        "test_sequence = tokenizer.texts_to_sequences(testing_sentences)\n",
        "test_padding = pad_sequences(test_sequence, maxlen=120)"
      ],
      "execution_count": 0,
      "outputs": []
    },
    {
      "cell_type": "code",
      "metadata": {
        "id": "J842dD0kLmvE",
        "colab_type": "code",
        "colab": {}
      },
      "source": [
        "model = tf.keras.Sequential([tf.keras.layers.Embedding(10000, 16, input_length=120),\n",
        "                             tf.keras.layers.Flatten(),\n",
        "                             tf.keras.layers.Dense(6, activation='relu'),\n",
        "                             tf.keras.layers.Dense(1, activation='sigmoid')])"
      ],
      "execution_count": 0,
      "outputs": []
    },
    {
      "cell_type": "code",
      "metadata": {
        "id": "vdqEYMEEMz5p",
        "colab_type": "code",
        "colab": {}
      },
      "source": [
        "model.compile(loss='binary_crossentropy', optimizer='adam', metrics=['accuracy'])"
      ],
      "execution_count": 0,
      "outputs": []
    },
    {
      "cell_type": "code",
      "metadata": {
        "id": "Nhkkh3qhM-gc",
        "colab_type": "code",
        "colab": {
          "base_uri": "https://localhost:8080/",
          "height": 286
        },
        "outputId": "31082d65-2e78-4fe1-aa1f-4f4ed6da62a1"
      },
      "source": [
        "model.summary()"
      ],
      "execution_count": 10,
      "outputs": [
        {
          "output_type": "stream",
          "text": [
            "Model: \"sequential\"\n",
            "_________________________________________________________________\n",
            "Layer (type)                 Output Shape              Param #   \n",
            "=================================================================\n",
            "embedding (Embedding)        (None, 120, 16)           160000    \n",
            "_________________________________________________________________\n",
            "flatten (Flatten)            (None, 1920)              0         \n",
            "_________________________________________________________________\n",
            "dense (Dense)                (None, 6)                 11526     \n",
            "_________________________________________________________________\n",
            "dense_1 (Dense)              (None, 1)                 7         \n",
            "=================================================================\n",
            "Total params: 171,533\n",
            "Trainable params: 171,533\n",
            "Non-trainable params: 0\n",
            "_________________________________________________________________\n"
          ],
          "name": "stdout"
        }
      ]
    },
    {
      "cell_type": "code",
      "metadata": {
        "id": "2sHiI_PNNAtv",
        "colab_type": "code",
        "colab": {
          "base_uri": "https://localhost:8080/",
          "height": 370
        },
        "outputId": "444cbefd-f736-40a0-ed2e-f122c4481cdf"
      },
      "source": [
        "model.fit(train_padding, \n",
        "          training_label_final, \n",
        "          epochs=10, \n",
        "          validation_data=(test_padding, \n",
        "                           testing_label_final)\n",
        "          )"
      ],
      "execution_count": 11,
      "outputs": [
        {
          "output_type": "stream",
          "text": [
            "Epoch 1/10\n",
            "782/782 [==============================] - 7s 9ms/step - loss: 0.4927 - accuracy: 0.7436 - val_loss: 0.3510 - val_accuracy: 0.8436\n",
            "Epoch 2/10\n",
            "782/782 [==============================] - 7s 9ms/step - loss: 0.2407 - accuracy: 0.9061 - val_loss: 0.3664 - val_accuracy: 0.8413\n",
            "Epoch 3/10\n",
            "782/782 [==============================] - 7s 9ms/step - loss: 0.0924 - accuracy: 0.9765 - val_loss: 0.4513 - val_accuracy: 0.8268\n",
            "Epoch 4/10\n",
            "782/782 [==============================] - 7s 9ms/step - loss: 0.0226 - accuracy: 0.9971 - val_loss: 0.5245 - val_accuracy: 0.8254\n",
            "Epoch 5/10\n",
            "782/782 [==============================] - 7s 9ms/step - loss: 0.0054 - accuracy: 0.9996 - val_loss: 0.5872 - val_accuracy: 0.8258\n",
            "Epoch 6/10\n",
            "782/782 [==============================] - 7s 9ms/step - loss: 0.0020 - accuracy: 0.9999 - val_loss: 0.6343 - val_accuracy: 0.8271\n",
            "Epoch 7/10\n",
            "782/782 [==============================] - 7s 9ms/step - loss: 8.6584e-04 - accuracy: 1.0000 - val_loss: 0.6760 - val_accuracy: 0.8282\n",
            "Epoch 8/10\n",
            "782/782 [==============================] - 7s 9ms/step - loss: 4.6315e-04 - accuracy: 1.0000 - val_loss: 0.7120 - val_accuracy: 0.8273\n",
            "Epoch 9/10\n",
            "782/782 [==============================] - 7s 9ms/step - loss: 2.7061e-04 - accuracy: 1.0000 - val_loss: 0.7494 - val_accuracy: 0.8283\n",
            "Epoch 10/10\n",
            "782/782 [==============================] - 7s 9ms/step - loss: 1.6232e-04 - accuracy: 1.0000 - val_loss: 0.7855 - val_accuracy: 0.8285\n"
          ],
          "name": "stdout"
        },
        {
          "output_type": "execute_result",
          "data": {
            "text/plain": [
              "<tensorflow.python.keras.callbacks.History at 0x7f9680335ef0>"
            ]
          },
          "metadata": {
            "tags": []
          },
          "execution_count": 11
        }
      ]
    },
    {
      "cell_type": "code",
      "metadata": {
        "id": "DMuMoUCbNjoq",
        "colab_type": "code",
        "colab": {}
      },
      "source": [
        ""
      ],
      "execution_count": 0,
      "outputs": []
    }
  ]
}