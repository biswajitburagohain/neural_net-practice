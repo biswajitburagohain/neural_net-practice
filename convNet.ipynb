{
  "nbformat": 4,
  "nbformat_minor": 0,
  "metadata": {
    "colab": {
      "name": "convNet.ipynb",
      "provenance": [],
      "collapsed_sections": [],
      "authorship_tag": "ABX9TyPX9LoDCL6RQjEO/m6hpw1D",
      "include_colab_link": true
    },
    "kernelspec": {
      "name": "python3",
      "display_name": "Python 3"
    },
    "accelerator": "GPU"
  },
  "cells": [
    {
      "cell_type": "markdown",
      "metadata": {
        "id": "view-in-github",
        "colab_type": "text"
      },
      "source": [
        "<a href=\"https://colab.research.google.com/github/biswajitburagohain/neural_net-practice/blob/master/convNet.ipynb\" target=\"_parent\"><img src=\"https://colab.research.google.com/assets/colab-badge.svg\" alt=\"Open In Colab\"/></a>"
      ]
    },
    {
      "cell_type": "code",
      "metadata": {
        "id": "oSQ7_HqMU5_C",
        "colab_type": "code",
        "outputId": "18a7af79-2c5a-4b73-b399-4b2b59743e4c",
        "colab": {
          "base_uri": "https://localhost:8080/",
          "height": 202
        }
      },
      "source": [
        "!wget --no-check-certificate \\\n",
        "  https://storage.googleapis.com/mledu-datasets/cats_and_dogs_filtered.zip \\\n",
        "  -O /tmp/cats_and_dogs_filtered.zip"
      ],
      "execution_count": 28,
      "outputs": [
        {
          "output_type": "stream",
          "text": [
            "--2020-05-21 13:12:14--  https://storage.googleapis.com/mledu-datasets/cats_and_dogs_filtered.zip\n",
            "Resolving storage.googleapis.com (storage.googleapis.com)... 66.102.1.128, 2a00:1450:400c:c0c::80\n",
            "Connecting to storage.googleapis.com (storage.googleapis.com)|66.102.1.128|:443... connected.\n",
            "HTTP request sent, awaiting response... 200 OK\n",
            "Length: 68606236 (65M) [application/zip]\n",
            "Saving to: ‘/tmp/cats_and_dogs_filtered.zip’\n",
            "\n",
            "/tmp/cats_and_dogs_ 100%[===================>]  65.43M  68.2MB/s    in 1.0s    \n",
            "\n",
            "2020-05-21 13:12:16 (68.2 MB/s) - ‘/tmp/cats_and_dogs_filtered.zip’ saved [68606236/68606236]\n",
            "\n"
          ],
          "name": "stdout"
        }
      ]
    },
    {
      "cell_type": "code",
      "metadata": {
        "id": "_op9wqHiU83F",
        "colab_type": "code",
        "colab": {}
      },
      "source": [
        "import os\n",
        "import zipfile\n",
        "\n",
        "local_zip = '/tmp/cats_and_dogs_filtered.zip'\n",
        "zip_ref = zipfile.ZipFile(local_zip, 'r')\n",
        "zip_ref.extractall('/tmp')\n",
        "zip_ref.close()"
      ],
      "execution_count": 0,
      "outputs": []
    },
    {
      "cell_type": "code",
      "metadata": {
        "id": "FrwVHYIwVnVe",
        "colab_type": "code",
        "colab": {}
      },
      "source": [
        "base_dir = '/tmp/cats_and_dogs_filtered'\n",
        "train_dir = os.path.join(base_dir, 'train')\n",
        "validation_dir = os.path.join(base_dir, 'validation')\n",
        "\n",
        "train_dogs_dir = os.path.join(train_dir, 'dogs')\n",
        "train_cats_dir = os.path.join(train_dir, 'cats')\n",
        "\n",
        "validation_dogs_dir = os.path.join(validation_dir, 'dogs')\n",
        "validation_cats_dir = os.path.join(validation_dir, 'cats')"
      ],
      "execution_count": 0,
      "outputs": []
    },
    {
      "cell_type": "code",
      "metadata": {
        "id": "NE3YXFvPaAUa",
        "colab_type": "code",
        "outputId": "37330494-ad32-4f24-8d37-87d1c0d7905c",
        "colab": {
          "base_uri": "https://localhost:8080/",
          "height": 84
        }
      },
      "source": [
        "print(\"total number of cats in train_dir\", len(os.listdir(train_cats_dir)))\n",
        "print(\"total number of dogs in train_dir\", len(os.listdir(train_dogs_dir)))\n",
        "\n",
        "print(\"total number of cats in validation_dir\", len(os.listdir(validation_cats_dir)))\n",
        "print(\"total number of dogs in validation_dir\", len(os.listdir(validation_dogs_dir)))"
      ],
      "execution_count": 31,
      "outputs": [
        {
          "output_type": "stream",
          "text": [
            "total number of cats in train_dir 1000\n",
            "total number of dogs in train_dir 1000\n",
            "total number of cats in validation_dir 500\n",
            "total number of dogs in validation_dir 500\n"
          ],
          "name": "stdout"
        }
      ]
    },
    {
      "cell_type": "code",
      "metadata": {
        "id": "JWyvYBq0aWDB",
        "colab_type": "code",
        "colab": {}
      },
      "source": [
        "import tensorflow as tf"
      ],
      "execution_count": 0,
      "outputs": []
    },
    {
      "cell_type": "code",
      "metadata": {
        "id": "J6TR8nGpU5rY",
        "colab_type": "code",
        "colab": {}
      },
      "source": [
        "model = tf.keras.models.Sequential([tf.keras.layers.Conv2D(16, (3,3), activation='relu', input_shape=(150, 150, 3)),\n",
        "                                    tf.keras.layers.MaxPooling2D(2,2),\n",
        "                                    tf.keras.layers.Conv2D(32, (3,3), activation = 'relu'),\n",
        "                                    tf.keras.layers.MaxPooling2D(2,2),\n",
        "                                    tf.keras.layers.Conv2D(64, (3,3), activation = 'relu'),\n",
        "                                    tf.keras.layers.Flatten(),\n",
        "                                    tf.keras.layers.Dense(200, activation= 'relu'),\n",
        "                                    tf.keras.layers.Dense(1, activation='sigmoid')])"
      ],
      "execution_count": 0,
      "outputs": []
    },
    {
      "cell_type": "code",
      "metadata": {
        "id": "VXW6gczyWzJ6",
        "colab_type": "code",
        "outputId": "09a0d81d-e482-4d1e-9ddb-6cc102079232",
        "colab": {
          "base_uri": "https://localhost:8080/",
          "height": 420
        }
      },
      "source": [
        "model.summary()"
      ],
      "execution_count": 33,
      "outputs": [
        {
          "output_type": "stream",
          "text": [
            "Model: \"sequential_1\"\n",
            "_________________________________________________________________\n",
            "Layer (type)                 Output Shape              Param #   \n",
            "=================================================================\n",
            "conv2d_3 (Conv2D)            (None, 148, 148, 16)      448       \n",
            "_________________________________________________________________\n",
            "max_pooling2d_2 (MaxPooling2 (None, 74, 74, 16)        0         \n",
            "_________________________________________________________________\n",
            "conv2d_4 (Conv2D)            (None, 72, 72, 32)        4640      \n",
            "_________________________________________________________________\n",
            "max_pooling2d_3 (MaxPooling2 (None, 36, 36, 32)        0         \n",
            "_________________________________________________________________\n",
            "conv2d_5 (Conv2D)            (None, 34, 34, 64)        18496     \n",
            "_________________________________________________________________\n",
            "flatten_1 (Flatten)          (None, 73984)             0         \n",
            "_________________________________________________________________\n",
            "dense_2 (Dense)              (None, 200)               14797000  \n",
            "_________________________________________________________________\n",
            "dense_3 (Dense)              (None, 1)                 201       \n",
            "=================================================================\n",
            "Total params: 14,820,785\n",
            "Trainable params: 14,820,785\n",
            "Non-trainable params: 0\n",
            "_________________________________________________________________\n"
          ],
          "name": "stdout"
        }
      ]
    },
    {
      "cell_type": "code",
      "metadata": {
        "id": "TKpTQMLaW1fT",
        "colab_type": "code",
        "colab": {}
      },
      "source": [
        "from tensorflow.keras.optimizers import RMSprop"
      ],
      "execution_count": 0,
      "outputs": []
    },
    {
      "cell_type": "code",
      "metadata": {
        "id": "NnRw1_sX0uYo",
        "colab_type": "code",
        "colab": {}
      },
      "source": [
        "model.compile(RMSprop(lr=0.001), loss='binary_crossentropy', metrics=['accuracy'])"
      ],
      "execution_count": 0,
      "outputs": []
    },
    {
      "cell_type": "code",
      "metadata": {
        "id": "0nLTTjth1Uka",
        "colab_type": "code",
        "colab": {}
      },
      "source": [
        "from tensorflow.keras.preprocessing.image import ImageDataGenerator"
      ],
      "execution_count": 0,
      "outputs": []
    },
    {
      "cell_type": "code",
      "metadata": {
        "id": "duagCNbU10Ff",
        "colab_type": "code",
        "colab": {}
      },
      "source": [
        "train_datagen = ImageDataGenerator(rescale = 1.0/255)\n",
        "test_datagen = ImageDataGenerator(rescale = 1.0/255)"
      ],
      "execution_count": 0,
      "outputs": []
    },
    {
      "cell_type": "code",
      "metadata": {
        "id": "I1EjpsfV2eeB",
        "colab_type": "code",
        "colab": {
          "base_uri": "https://localhost:8080/",
          "height": 50
        },
        "outputId": "709cbeb1-2d2b-4fb1-af1e-50f047aef129"
      },
      "source": [
        "train_generator = train_datagen.flow_from_directory(train_dir,\n",
        "                                                    target_size = (150, 150),\n",
        "                                                    class_mode = 'binary',\n",
        "                                                    batch_size = 100)\n",
        "\n",
        "validation_generator = test_datagen.flow_from_directory(validation_dir,\n",
        "                                                  class_mode = 'binary',\n",
        "                                                  batch_size = 100,\n",
        "                                                  target_size = (150, 150))"
      ],
      "execution_count": 38,
      "outputs": [
        {
          "output_type": "stream",
          "text": [
            "Found 2000 images belonging to 2 classes.\n",
            "Found 1000 images belonging to 2 classes.\n"
          ],
          "name": "stdout"
        }
      ]
    },
    {
      "cell_type": "code",
      "metadata": {
        "id": "K4HpI91XeWqn",
        "colab_type": "code",
        "colab": {
          "base_uri": "https://localhost:8080/",
          "height": 689
        },
        "outputId": "4f57557d-da24-4958-90b7-af299006b84a"
      },
      "source": [
        "history = model.fit(train_generator, \n",
        "                    epochs = 20,\n",
        "                    steps_per_epoch = 10,\n",
        "                    validation_data = validation_generator,\n",
        "                    validation_steps = 5,\n",
        "                    verbose = 2\n",
        "                    )"
      ],
      "execution_count": 39,
      "outputs": [
        {
          "output_type": "stream",
          "text": [
            "Epoch 1/20\n",
            "10/10 - 5s - loss: 2.9688 - accuracy: 0.4840 - val_loss: 0.6906 - val_accuracy: 0.5060\n",
            "Epoch 2/20\n",
            "10/10 - 5s - loss: 0.6908 - accuracy: 0.5030 - val_loss: 0.6767 - val_accuracy: 0.6240\n",
            "Epoch 3/20\n",
            "10/10 - 5s - loss: 0.7552 - accuracy: 0.5580 - val_loss: 0.6793 - val_accuracy: 0.5480\n",
            "Epoch 4/20\n",
            "10/10 - 5s - loss: 0.6747 - accuracy: 0.5790 - val_loss: 0.6678 - val_accuracy: 0.6000\n",
            "Epoch 5/20\n",
            "10/10 - 5s - loss: 0.6618 - accuracy: 0.6250 - val_loss: 0.6431 - val_accuracy: 0.6520\n",
            "Epoch 6/20\n",
            "10/10 - 5s - loss: 0.7012 - accuracy: 0.5810 - val_loss: 0.6771 - val_accuracy: 0.5620\n",
            "Epoch 7/20\n",
            "10/10 - 5s - loss: 0.6677 - accuracy: 0.6160 - val_loss: 0.6701 - val_accuracy: 0.6200\n",
            "Epoch 8/20\n",
            "10/10 - 5s - loss: 0.6369 - accuracy: 0.6580 - val_loss: 0.6363 - val_accuracy: 0.6500\n",
            "Epoch 9/20\n",
            "10/10 - 5s - loss: 0.6193 - accuracy: 0.6890 - val_loss: 0.6739 - val_accuracy: 0.6120\n",
            "Epoch 10/20\n",
            "10/10 - 5s - loss: 0.5842 - accuracy: 0.6760 - val_loss: 0.8709 - val_accuracy: 0.5300\n",
            "Epoch 11/20\n",
            "10/10 - 5s - loss: 0.6169 - accuracy: 0.6680 - val_loss: 0.7678 - val_accuracy: 0.5920\n",
            "Epoch 12/20\n",
            "10/10 - 5s - loss: 0.5943 - accuracy: 0.7020 - val_loss: 0.6416 - val_accuracy: 0.6640\n",
            "Epoch 13/20\n",
            "10/10 - 5s - loss: 0.5817 - accuracy: 0.7040 - val_loss: 0.6014 - val_accuracy: 0.6720\n",
            "Epoch 14/20\n",
            "10/10 - 5s - loss: 0.5063 - accuracy: 0.7580 - val_loss: 0.6320 - val_accuracy: 0.6380\n",
            "Epoch 15/20\n",
            "10/10 - 5s - loss: 0.5046 - accuracy: 0.7640 - val_loss: 0.8822 - val_accuracy: 0.6320\n",
            "Epoch 16/20\n",
            "10/10 - 5s - loss: 0.4766 - accuracy: 0.7610 - val_loss: 0.6129 - val_accuracy: 0.6820\n",
            "Epoch 17/20\n",
            "10/10 - 5s - loss: 0.4321 - accuracy: 0.8150 - val_loss: 0.6159 - val_accuracy: 0.7120\n",
            "Epoch 18/20\n",
            "10/10 - 5s - loss: 0.4762 - accuracy: 0.8160 - val_loss: 0.6405 - val_accuracy: 0.6840\n",
            "Epoch 19/20\n",
            "10/10 - 5s - loss: 0.3504 - accuracy: 0.8520 - val_loss: 0.6272 - val_accuracy: 0.6960\n",
            "Epoch 20/20\n",
            "10/10 - 5s - loss: 0.3346 - accuracy: 0.8660 - val_loss: 0.6145 - val_accuracy: 0.6840\n"
          ],
          "name": "stdout"
        }
      ]
    },
    {
      "cell_type": "code",
      "metadata": {
        "id": "J_Cn9I47hHF9",
        "colab_type": "code",
        "colab": {
          "base_uri": "https://localhost:8080/",
          "height": 50
        },
        "outputId": "ff05329d-d555-4e9c-a742-e0d90ec26352"
      },
      "source": [
        "from tensorflow.keras.preprocessing import image\n",
        "import numpy as np\n",
        "import os\n",
        "\n",
        "file_name = 'dog2.jfif'\n",
        "path = os.path.join('/content', file_name)\n",
        "img = image.load_img(path, target_size=(150, 150))\n",
        "x = image.img_to_array(img)\n",
        "x = np.expand_dims(x, axis = 0)\n",
        "images = np.vstack([x])\n",
        "classes = model.predict(images, verbose = 0 )\n",
        "\n",
        "print(classes)\n",
        "\n",
        "if (classes[0] > 0):\n",
        "  print(file_name + ' is a dog')\n",
        "else:\n",
        "  print('its a cat')"
      ],
      "execution_count": 40,
      "outputs": [
        {
          "output_type": "stream",
          "text": [
            "[[1.]]\n",
            "dog2.jfif is a dog\n"
          ],
          "name": "stdout"
        }
      ]
    },
    {
      "cell_type": "code",
      "metadata": {
        "id": "GrTiWHxSvQF-",
        "colab_type": "code",
        "colab": {}
      },
      "source": [
        "acc = history.history['accuracy']\n",
        "loss = history.history['loss']\n",
        "val_loss = history.history['val_loss']\n",
        "val_acc =history.history['val_accuracy']"
      ],
      "execution_count": 0,
      "outputs": []
    },
    {
      "cell_type": "code",
      "metadata": {
        "id": "tjaBot5LWXX_",
        "colab_type": "code",
        "colab": {}
      },
      "source": [
        "epoch_count = range(len(acc))"
      ],
      "execution_count": 0,
      "outputs": []
    },
    {
      "cell_type": "code",
      "metadata": {
        "id": "oYmxxVTZXDw0",
        "colab_type": "code",
        "colab": {
          "base_uri": "https://localhost:8080/",
          "height": 314
        },
        "outputId": "03a8a893-ef8f-404c-bd41-f389c13b1e24"
      },
      "source": [
        "import matplotlib.pyplot as plt\n",
        "plt.plot(range(len(acc)), acc)\n",
        "plt.plot(range(len(loss)), loss)\n",
        "plt.title('Training graph')\n",
        "plt.figure()"
      ],
      "execution_count": 56,
      "outputs": [
        {
          "output_type": "execute_result",
          "data": {
            "text/plain": [
              "<Figure size 432x288 with 0 Axes>"
            ]
          },
          "metadata": {
            "tags": []
          },
          "execution_count": 56
        },
        {
          "output_type": "display_data",
          "data": {
            "image/png": "[encoded data removed]",
            "text/plain": [
              "<Figure size 432x288 with 1 Axes>"
            ]
          },
          "metadata": {
            "tags": [],
            "needs_background": "light"
          }
        },
        {
          "output_type": "display_data",
          "data": {
            "text/plain": [
              "<Figure size 432x288 with 0 Axes>"
            ]
          },
          "metadata": {
            "tags": []
          }
        }
      ]
    },
    {
      "cell_type": "code",
      "metadata": {
        "id": "g6CZDHPOXKPv",
        "colab_type": "code",
        "colab": {
          "base_uri": "https://localhost:8080/",
          "height": 314
        },
        "outputId": "ebe7f0e8-4b9f-43c5-df6a-97f4edaccfe8"
      },
      "source": [
        "plt.plot(range(len(val_acc)), val_acc)\n",
        "plt.plot(range(len(val_loss)), val_loss)\n",
        "plt.title('validation graph')\n",
        "plt.figure()"
      ],
      "execution_count": 58,
      "outputs": [
        {
          "output_type": "execute_result",
          "data": {
            "text/plain": [
              "<Figure size 432x288 with 0 Axes>"
            ]
          },
          "metadata": {
            "tags": []
          },
          "execution_count": 58
        },
        {
          "output_type": "display_data",
          "data": {
            "image/png": "[encoded data removed]",
            "text/plain": [
              "<Figure size 432x288 with 1 Axes>"
            ]
          },
          "metadata": {
            "tags": [],
            "needs_background": "light"
          }
        },
        {
          "output_type": "display_data",
          "data": {
            "text/plain": [
              "<Figure size 432x288 with 0 Axes>"
            ]
          },
          "metadata": {
            "tags": []
          }
        }
      ]
    },
    {
      "cell_type": "code",
      "metadata": {
        "id": "aLdhANhrZhO_",
        "colab_type": "code",
        "colab": {}
      },
      "source": [
        ""
      ],
      "execution_count": 0,
      "outputs": []
    }
  ]
}