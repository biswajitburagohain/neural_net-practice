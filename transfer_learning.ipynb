{
  "nbformat": 4,
  "nbformat_minor": 0,
  "metadata": {
    "colab": {
      "name": "transfer_learning.ipynb",
      "provenance": [],
      "collapsed_sections": [],
      "authorship_tag": "ABX9TyNt5ePy4VKX9poTgnw+EHof",
      "include_colab_link": true
    },
    "kernelspec": {
      "name": "python3",
      "display_name": "Python 3"
    },
    "accelerator": "GPU"
  },
  "cells": [
    {
      "cell_type": "markdown",
      "metadata": {
        "id": "view-in-github",
        "colab_type": "text"
      },
      "source": [
        "<a href=\"https://colab.research.google.com/github/biswajitburagohain/neural_net-practice/blob/master/transfer_learning.ipynb\" target=\"_parent\"><img src=\"https://colab.research.google.com/assets/colab-badge.svg\" alt=\"Open In Colab\"/></a>"
      ]
    },
    {
      "cell_type": "code",
      "metadata": {
        "id": "Pd7t9W3Aa7uY",
        "colab_type": "code",
        "colab": {}
      },
      "source": [
        "import os\n",
        "from tensorflow.keras import Model\n",
        "from tensorflow.keras import layers"
      ],
      "execution_count": 0,
      "outputs": []
    },
    {
      "cell_type": "code",
      "metadata": {
        "id": "ktMYBtCMbH_y",
        "colab_type": "code",
        "colab": {
          "base_uri": "https://localhost:8080/",
          "height": 202
        },
        "outputId": "eebf9489-595d-46f3-cd1a-9918350d6449"
      },
      "source": [
        "!wget --no-check-certificate \\\n",
        "    https://storage.googleapis.com/mledu-datasets/inception_v3_weights_tf_dim_ordering_tf_kernels_notop.h5 \\\n",
        "    -O /tmp/inception_v3_weights_tf_dim_ordering_tf_kernels_notop.h5"
      ],
      "execution_count": 2,
      "outputs": [
        {
          "output_type": "stream",
          "text": [
            "--2020-05-28 18:20:27--  https://storage.googleapis.com/mledu-datasets/inception_v3_weights_tf_dim_ordering_tf_kernels_notop.h5\n",
            "Resolving storage.googleapis.com (storage.googleapis.com)... 66.102.1.128, 2a00:1450:400c:c0a::80\n",
            "Connecting to storage.googleapis.com (storage.googleapis.com)|66.102.1.128|:443... connected.\n",
            "HTTP request sent, awaiting response... 200 OK\n",
            "Length: 87910968 (84M) [application/x-hdf]\n",
            "Saving to: ‘/tmp/inception_v3_weights_tf_dim_ordering_tf_kernels_notop.h5’\n",
            "\n",
            "/tmp/inception_v3_w 100%[===================>]  83.84M  86.9MB/s    in 1.0s    \n",
            "\n",
            "2020-05-28 18:20:28 (86.9 MB/s) - ‘/tmp/inception_v3_weights_tf_dim_ordering_tf_kernels_notop.h5’ saved [87910968/87910968]\n",
            "\n"
          ],
          "name": "stdout"
        }
      ]
    },
    {
      "cell_type": "code",
      "metadata": {
        "id": "frxZXZw7bUcK",
        "colab_type": "code",
        "colab": {}
      },
      "source": [
        "from tensorflow.keras.applications.inception_v3 import InceptionV3"
      ],
      "execution_count": 0,
      "outputs": []
    },
    {
      "cell_type": "code",
      "metadata": {
        "id": "s3lqZUbjbeXi",
        "colab_type": "code",
        "colab": {}
      },
      "source": [
        "weights = '/tmp/inception_v3_weights_tf_dim_ordering_tf_kernels_notop.h5'\n",
        "\n",
        "base_model = InceptionV3(input_shape = (150, 150,3),\n",
        "                         include_top = False,\n",
        "                         weights = None)\n",
        "\n",
        "base_model.load_weights(weights)"
      ],
      "execution_count": 0,
      "outputs": []
    },
    {
      "cell_type": "code",
      "metadata": {
        "id": "qO4TJFLOb1Hd",
        "colab_type": "code",
        "colab": {}
      },
      "source": [
        "for i in base_model.layers:\n",
        "  i.trainable = False"
      ],
      "execution_count": 0,
      "outputs": []
    },
    {
      "cell_type": "code",
      "metadata": {
        "id": "ze3yFKmGb_bB",
        "colab_type": "code",
        "colab": {}
      },
      "source": [
        "last_layer = base_model.get_layer('mixed8')\n",
        "last_output = last_layer.output"
      ],
      "execution_count": 0,
      "outputs": []
    },
    {
      "cell_type": "code",
      "metadata": {
        "id": "Yq5q36BociiJ",
        "colab_type": "code",
        "colab": {}
      },
      "source": [
        "x = layers.Flatten()(last_output)"
      ],
      "execution_count": 0,
      "outputs": []
    },
    {
      "cell_type": "code",
      "metadata": {
        "id": "5_QYv0RBcofB",
        "colab_type": "code",
        "colab": {}
      },
      "source": [
        "x = layers.Dense(1024, activation='relu')(x)"
      ],
      "execution_count": 0,
      "outputs": []
    },
    {
      "cell_type": "code",
      "metadata": {
        "id": "pR5Iv-28cvBv",
        "colab_type": "code",
        "colab": {}
      },
      "source": [
        "x = layers.Dropout(rate = 0.2)(x)      #adding dropouts"
      ],
      "execution_count": 0,
      "outputs": []
    },
    {
      "cell_type": "code",
      "metadata": {
        "id": "Lu5gSMOLc8EU",
        "colab_type": "code",
        "colab": {}
      },
      "source": [
        "x = layers.Dense(1, activation='sigmoid')(x)"
      ],
      "execution_count": 0,
      "outputs": []
    },
    {
      "cell_type": "code",
      "metadata": {
        "id": "2fB2gc3ydDqO",
        "colab_type": "code",
        "colab": {}
      },
      "source": [
        "model = Model(base_model.input, x)"
      ],
      "execution_count": 0,
      "outputs": []
    },
    {
      "cell_type": "code",
      "metadata": {
        "id": "cJj7D4spdL_L",
        "colab_type": "code",
        "colab": {}
      },
      "source": [
        "from tensorflow.keras.optimizers import RMSprop\n",
        "\n",
        "model.compile(optimizer=RMSprop(lr=0.0001), loss = 'binary_crossentropy', metrics=['accuracy'])"
      ],
      "execution_count": 0,
      "outputs": []
    },
    {
      "cell_type": "code",
      "metadata": {
        "id": "Ecad_YdydhJK",
        "colab_type": "code",
        "colab": {
          "base_uri": "https://localhost:8080/",
          "height": 202
        },
        "outputId": "9b640084-fa09-4a93-efd8-d693029d5800"
      },
      "source": [
        "!wget --no-check-certificate \\\n",
        "        https://storage.googleapis.com/mledu-datasets/cats_and_dogs_filtered.zip \\\n",
        "       -O /tmp/cats_and_dogs_filtered.zip\n",
        "\n",
        "from tensorflow.keras.preprocessing.image import ImageDataGenerator\n",
        "\n",
        "import os\n",
        "import zipfile\n",
        "\n",
        "local_zip = '//tmp/cats_and_dogs_filtered.zip'\n",
        "\n",
        "zip_ref = zipfile.ZipFile(local_zip, 'r')\n",
        "\n",
        "zip_ref.extractall('/tmp')\n",
        "zip_ref.close()"
      ],
      "execution_count": 13,
      "outputs": [
        {
          "output_type": "stream",
          "text": [
            "--2020-05-28 18:21:38--  https://storage.googleapis.com/mledu-datasets/cats_and_dogs_filtered.zip\n",
            "Resolving storage.googleapis.com (storage.googleapis.com)... 66.102.1.128, 2a00:1450:400c:c06::80\n",
            "Connecting to storage.googleapis.com (storage.googleapis.com)|66.102.1.128|:443... connected.\n",
            "HTTP request sent, awaiting response... 200 OK\n",
            "Length: 68606236 (65M) [application/zip]\n",
            "Saving to: ‘/tmp/cats_and_dogs_filtered.zip’\n",
            "\n",
            "\r          /tmp/cats   0%[                    ]       0  --.-KB/s               \r         /tmp/cats_  12%[=>                  ]   8.01M  28.9MB/s               \r        /tmp/cats_a  61%[===========>        ]  40.10M  84.0MB/s               \r       /tmp/cats_an  99%[==================> ]  65.18M  96.2MB/s               \r/tmp/cats_and_dogs_ 100%[===================>]  65.43M  96.4MB/s    in 0.7s    \n",
            "\n",
            "2020-05-28 18:21:38 (96.4 MB/s) - ‘/tmp/cats_and_dogs_filtered.zip’ saved [68606236/68606236]\n",
            "\n"
          ],
          "name": "stdout"
        }
      ]
    },
    {
      "cell_type": "code",
      "metadata": {
        "id": "6-dpFn5idnWN",
        "colab_type": "code",
        "colab": {}
      },
      "source": [
        "# Define our example directories and files\n",
        "base_dir = '/tmp/cats_and_dogs_filtered'\n",
        "\n",
        "train_dir = os.path.join( base_dir, 'train')\n",
        "validation_dir = os.path.join( base_dir, 'validation')\n",
        "\n",
        "\n",
        "train_cats_dir = os.path.join(train_dir, 'cats') # Directory with our training cat pictures\n",
        "train_dogs_dir = os.path.join(train_dir, 'dogs') # Directory with our training dog pictures\n",
        "validation_cats_dir = os.path.join(validation_dir, 'cats') # Directory with our validation cat pictures\n",
        "validation_dogs_dir = os.path.join(validation_dir, 'dogs')# Directory with our validation dog pictures\n",
        "\n",
        "train_cat_fnames = os.listdir(train_cats_dir)\n",
        "train_dog_fnames = os.listdir(train_dogs_dir)"
      ],
      "execution_count": 0,
      "outputs": []
    },
    {
      "cell_type": "code",
      "metadata": {
        "id": "oPAx25S-dpgQ",
        "colab_type": "code",
        "colab": {}
      },
      "source": [
        "from tensorflow.keras.preprocessing.image import ImageDataGenerator\n",
        "train_datagen = ImageDataGenerator(rescale= 1./255,\n",
        "                                   height_shift_range = 0.2,\n",
        "                                   width_shift_range = 0.2,\n",
        "                                   rotation_range = 40,\n",
        "                                   shear_range = 0.3,\n",
        "                                   horizontal_flip = True,\n",
        "                                   fill_mode = 'nearest'\n",
        "                                   )\n",
        "\n",
        "validation_datagen = ImageDataGenerator(rescale = 1./255)\n"
      ],
      "execution_count": 0,
      "outputs": []
    },
    {
      "cell_type": "code",
      "metadata": {
        "id": "Ee_mdiWreYfy",
        "colab_type": "code",
        "colab": {
          "base_uri": "https://localhost:8080/",
          "height": 50
        },
        "outputId": "52a2efd1-4608-49b0-d15b-f1b1b0a889e0"
      },
      "source": [
        "train_generator = train_datagen.flow_from_directory(target_size = (150,150),\n",
        "                                                    batch_size = 20,\n",
        "                                                    class_mode = 'binary',\n",
        "                                                    directory = train_dir)\n",
        "\n",
        "validation_generator = validation_datagen.flow_from_directory(validation_dir,\n",
        "                                                             target_size = (150, 150),\n",
        "                                                             batch_size = 20,\n",
        "                                                             class_mode = 'binary')"
      ],
      "execution_count": 16,
      "outputs": [
        {
          "output_type": "stream",
          "text": [
            "Found 2000 images belonging to 2 classes.\n",
            "Found 1000 images belonging to 2 classes.\n"
          ],
          "name": "stdout"
        }
      ]
    },
    {
      "cell_type": "code",
      "metadata": {
        "id": "rQv21vAke9vu",
        "colab_type": "code",
        "colab": {
          "base_uri": "https://localhost:8080/",
          "height": 689
        },
        "outputId": "b545ed11-5f73-4e42-bc78-383e9ebd2741"
      },
      "source": [
        "history = model.fit(train_generator,\n",
        "                    epochs = 20,\n",
        "                    validation_data = validation_generator,\n",
        "                    verbose = 1)"
      ],
      "execution_count": 17,
      "outputs": [
        {
          "output_type": "stream",
          "text": [
            "Epoch 1/20\n",
            "100/100 [==============================] - 23s 230ms/step - loss: 0.4002 - accuracy: 0.8505 - val_loss: 0.0914 - val_accuracy: 0.9590\n",
            "Epoch 2/20\n",
            "100/100 [==============================] - 21s 210ms/step - loss: 0.2149 - accuracy: 0.9135 - val_loss: 0.1003 - val_accuracy: 0.9600\n",
            "Epoch 3/20\n",
            "100/100 [==============================] - 22s 217ms/step - loss: 0.2008 - accuracy: 0.9205 - val_loss: 0.0856 - val_accuracy: 0.9620\n",
            "Epoch 4/20\n",
            "100/100 [==============================] - 21s 210ms/step - loss: 0.1551 - accuracy: 0.9355 - val_loss: 0.0930 - val_accuracy: 0.9590\n",
            "Epoch 5/20\n",
            "100/100 [==============================] - 22s 216ms/step - loss: 0.1680 - accuracy: 0.9390 - val_loss: 0.1169 - val_accuracy: 0.9500\n",
            "Epoch 6/20\n",
            "100/100 [==============================] - 21s 211ms/step - loss: 0.1442 - accuracy: 0.9445 - val_loss: 0.1331 - val_accuracy: 0.9560\n",
            "Epoch 7/20\n",
            "100/100 [==============================] - 22s 216ms/step - loss: 0.1560 - accuracy: 0.9395 - val_loss: 0.1483 - val_accuracy: 0.9510\n",
            "Epoch 8/20\n",
            "100/100 [==============================] - 21s 212ms/step - loss: 0.1485 - accuracy: 0.9385 - val_loss: 0.1118 - val_accuracy: 0.9630\n",
            "Epoch 9/20\n",
            "100/100 [==============================] - 21s 214ms/step - loss: 0.1464 - accuracy: 0.9480 - val_loss: 0.1237 - val_accuracy: 0.9600\n",
            "Epoch 10/20\n",
            "100/100 [==============================] - 21s 210ms/step - loss: 0.1408 - accuracy: 0.9515 - val_loss: 0.0750 - val_accuracy: 0.9750\n",
            "Epoch 11/20\n",
            "100/100 [==============================] - 21s 213ms/step - loss: 0.1487 - accuracy: 0.9480 - val_loss: 0.0987 - val_accuracy: 0.9630\n",
            "Epoch 12/20\n",
            "100/100 [==============================] - 21s 213ms/step - loss: 0.1367 - accuracy: 0.9555 - val_loss: 0.1947 - val_accuracy: 0.9340\n",
            "Epoch 13/20\n",
            "100/100 [==============================] - 21s 212ms/step - loss: 0.1213 - accuracy: 0.9525 - val_loss: 0.1192 - val_accuracy: 0.9630\n",
            "Epoch 14/20\n",
            "100/100 [==============================] - 21s 212ms/step - loss: 0.1374 - accuracy: 0.9460 - val_loss: 0.1169 - val_accuracy: 0.9640\n",
            "Epoch 15/20\n",
            "100/100 [==============================] - 21s 212ms/step - loss: 0.1187 - accuracy: 0.9625 - val_loss: 0.2422 - val_accuracy: 0.9370\n",
            "Epoch 16/20\n",
            "100/100 [==============================] - 22s 218ms/step - loss: 0.1294 - accuracy: 0.9520 - val_loss: 0.1697 - val_accuracy: 0.9520\n",
            "Epoch 17/20\n",
            "100/100 [==============================] - 21s 210ms/step - loss: 0.1309 - accuracy: 0.9560 - val_loss: 0.1298 - val_accuracy: 0.9650\n",
            "Epoch 18/20\n",
            "100/100 [==============================] - 22s 216ms/step - loss: 0.1094 - accuracy: 0.9650 - val_loss: 0.1105 - val_accuracy: 0.9580\n",
            "Epoch 19/20\n",
            "100/100 [==============================] - 21s 210ms/step - loss: 0.1155 - accuracy: 0.9585 - val_loss: 0.1085 - val_accuracy: 0.9640\n",
            "Epoch 20/20\n",
            "100/100 [==============================] - 21s 213ms/step - loss: 0.1211 - accuracy: 0.9595 - val_loss: 0.1385 - val_accuracy: 0.9580\n"
          ],
          "name": "stdout"
        }
      ]
    },
    {
      "cell_type": "code",
      "metadata": {
        "id": "KRlWPqhvfOox",
        "colab_type": "code",
        "colab": {
          "base_uri": "https://localhost:8080/",
          "height": 281
        },
        "outputId": "c24e9361-f045-428e-f017-344bebdfe2d4"
      },
      "source": [
        "from matplotlib import pyplot as plt\n",
        "\n",
        "acc = history.history['accuracy']\n",
        "val_acc = history.history['val_accuracy']\n",
        "\n",
        "epoc = range(len(acc))\n",
        "\n",
        "plt.plot(epoc, acc, 'g*--', label='training')\n",
        "plt.plot(epoc, val_acc, 'b*--', label='validation')\n",
        "plt.xlabel('no. of epochs')\n",
        "plt.ylabel('accuracy')\n",
        "plt.legend()\n",
        "\n",
        "plt.show()"
      ],
      "execution_count": 23,
      "outputs": [
        {
          "output_type": "display_data",
          "data": {
            "image/png": "[encoded data removed]",
            "text/plain": [
              "<Figure size 432x288 with 1 Axes>"
            ]
          },
          "metadata": {
            "tags": [],
            "needs_background": "light"
          }
        }
      ]
    },
    {
      "cell_type": "code",
      "metadata": {
        "id": "RhRfaZlGjAKU",
        "colab_type": "code",
        "colab": {}
      },
      "source": [
        ""
      ],
      "execution_count": 0,
      "outputs": []
    }
  ]
}